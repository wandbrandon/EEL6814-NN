{
 "cells": [
  {
   "cell_type": "markdown",
   "metadata": {},
   "source": [
    "initial code from hw2"
   ]
  },
  {
   "cell_type": "code",
   "execution_count": 22,
   "metadata": {},
   "outputs": [],
   "source": [
    "import numpy as np\n",
    "import matplotlib.pyplot as plt\n",
    "import pandas as pd\n",
    "from tqdm import tqdm\n",
    "from ucimlrepo import fetch_ucirepo \n",
    "from sklearn.model_selection import train_test_split\n",
    "from sklearn.preprocessing import RobustScaler, OneHotEncoder"
   ]
  },
  {
   "cell_type": "code",
   "execution_count": 28,
   "metadata": {},
   "outputs": [],
   "source": [
    "# fetch dataset \n",
    "wine = fetch_ucirepo(id=109) \n",
    "  \n",
    "# data (as pandas dataframes) \n",
    "X_original = wine.data.features \n",
    "y_original = wine.data.targets \n",
    "\n",
    "y = OneHotEncoder().fit_transform(y_original).toarray()\n",
    "\n",
    "# split data into training and testing sets\n",
    "X_train, X_test, y_train, y_test = train_test_split(X_original, y, test_size=0.33, random_state=42)\n",
    "\n",
    "# normalize each column in the data\n",
    "scaler = RobustScaler()\n",
    "X_train = scaler.fit(X_train).transform(X_train)\n",
    "X_test = scaler.transform(X_test)"
   ]
  },
  {
   "cell_type": "code",
   "execution_count": 29,
   "metadata": {},
   "outputs": [],
   "source": [
    "# Sigmoid activation function and its derivative\n",
    "def sigmoid(x):\n",
    "    return 1 / (1 + np.exp(-x))\n",
    "\n",
    "def sigmoid_derivative(x):\n",
    "    return x * (1 - x)"
   ]
  },
  {
   "cell_type": "code",
   "execution_count": 30,
   "metadata": {},
   "outputs": [
    {
     "name": "stderr",
     "output_type": "stream",
     "text": [
      "Training MLP: 100%|██████████| 100000/100000 [00:03<00:00, 29343.70it/s]"
     ]
    },
    {
     "name": "stdout",
     "output_type": "stream",
     "text": [
      "Final Epoch 99999, Loss: 8.452705833625564e-07\n"
     ]
    },
    {
     "name": "stderr",
     "output_type": "stream",
     "text": [
      "\n"
     ]
    }
   ],
   "source": [
    "def forward(X, W1, b1, W2, b2):\n",
    "    hidden_layer_input = X @ W1 + b1\n",
    "    hidden_layer_output = sigmoid(hidden_layer_input)\n",
    "\n",
    "    output_layer_input = hidden_layer_output @ W2 + b2\n",
    "    predicted_output = sigmoid(output_layer_input)\n",
    "    \n",
    "    return hidden_layer_output, predicted_output\n",
    "\n",
    "# Use the forward function in the training loop\n",
    "def train_mlp(X, y, num_of_hidden_layers=8, learning_rate=0.1, epochs=100000, seed=1, verbose=False):\n",
    "    # Initialize parameters\n",
    "    input_layer_neurons = X.shape[1]            # Number of input neurons (x1 and x2)\n",
    "    hidden_layer_neurons = num_of_hidden_layers # Number of hidden neurons \n",
    "    output_neurons = y.shape[1]                 # Output neuron (binary classification)\n",
    "\n",
    "    # Randomly initialize weights and biases\n",
    "    np.random.seed(seed)\n",
    "    W1 = np.random.uniform(size=(input_layer_neurons, hidden_layer_neurons))\n",
    "    b1 = np.random.uniform(size=(1, hidden_layer_neurons))\n",
    "    W2 = np.random.uniform(size=(hidden_layer_neurons, output_neurons))\n",
    "    b2 = np.random.uniform(size=(1, output_neurons))\n",
    "\n",
    "    for epoch in tqdm(range(epochs), desc=\"Training MLP\"):\n",
    "        # Forward Propagation\n",
    "        hidden_layer_output, predicted_output = forward(X, W1, b1, W2, b2)\n",
    "\n",
    "        # Backpropagation\n",
    "        error = y - predicted_output \n",
    "        d_predicted_output = error * sigmoid_derivative(predicted_output)\n",
    "\n",
    "        error_hidden_layer = d_predicted_output @ (W2.T)\n",
    "        d_hidden_layer = error_hidden_layer * sigmoid_derivative(hidden_layer_output)\n",
    "\n",
    "        # Updating Weights and Biases\n",
    "        W2 += hidden_layer_output.T @ (d_predicted_output) * learning_rate\n",
    "        b2 += np.sum(d_predicted_output, axis=0, keepdims=True) * learning_rate\n",
    "        W1 += X.T @ (d_hidden_layer) * learning_rate\n",
    "        b1 += np.sum(d_hidden_layer, axis=0, keepdims=True) * learning_rate\n",
    "\n",
    "        # Optionally print loss at intervals\n",
    "        if epoch % 1000 == 0 and verbose:\n",
    "            loss = np.mean(np.square(y - predicted_output))\n",
    "            print(f'Epoch {epoch}, Loss: {loss}')\n",
    "\n",
    "    hidden_layer_output, predicted_output = forward(X, W1, b1, W2, b2)\n",
    "    loss = np.mean(np.square(y - predicted_output))\n",
    "    print(f'Final Epoch {epoch}, Loss: {loss}')\n",
    "    \n",
    "    return W1, b1, W2, b2, predicted_output\n",
    "\n",
    "# Call the function to train the MLP\n",
    "W1, b1, W2, b2, predicted_output = train_mlp(X_train, y_train, verbose=False)"
   ]
  },
  {
   "cell_type": "code",
   "execution_count": 32,
   "metadata": {},
   "outputs": [
    {
     "name": "stdout",
     "output_type": "stream",
     "text": [
      "Testing with 2 hidden layers and learning rate 0.01\n"
     ]
    },
    {
     "name": "stderr",
     "output_type": "stream",
     "text": [
      "Training MLP: 100%|██████████| 100/100 [00:00<00:00, 16056.60it/s]\n"
     ]
    },
    {
     "name": "stdout",
     "output_type": "stream",
     "text": [
      "Final Epoch 99, Loss: 0.08637913695802092\n",
      "Accuracy: 98.31%\n",
      "Confusion Matrix:\n",
      "[[20  0  0]\n",
      " [ 0 23  1]\n",
      " [ 0  0 15]]\n",
      "\n",
      "Testing with 2 hidden layers and learning rate 0.01\n"
     ]
    },
    {
     "name": "stderr",
     "output_type": "stream",
     "text": [
      "Training MLP: 100%|██████████| 1000/1000 [00:00<00:00, 25501.78it/s]\n"
     ]
    },
    {
     "name": "stdout",
     "output_type": "stream",
     "text": [
      "Final Epoch 999, Loss: 0.0032583243909230885\n",
      "Accuracy: 100.00%\n",
      "Confusion Matrix:\n",
      "[[20  0  0]\n",
      " [ 0 24  0]\n",
      " [ 0  0 15]]\n",
      "\n",
      "Testing with 2 hidden layers and learning rate 0.01\n"
     ]
    },
    {
     "name": "stderr",
     "output_type": "stream",
     "text": [
      "Training MLP: 100%|██████████| 10000/10000 [00:00<00:00, 36322.97it/s]\n"
     ]
    },
    {
     "name": "stdout",
     "output_type": "stream",
     "text": [
      "Final Epoch 9999, Loss: 0.00021905212155582036\n",
      "Accuracy: 100.00%\n",
      "Confusion Matrix:\n",
      "[[20  0  0]\n",
      " [ 0 24  0]\n",
      " [ 0  0 15]]\n",
      "\n",
      "Testing with 2 hidden layers and learning rate 0.1\n"
     ]
    },
    {
     "name": "stderr",
     "output_type": "stream",
     "text": [
      "Training MLP: 100%|██████████| 100/100 [00:00<00:00, 28602.73it/s]\n"
     ]
    },
    {
     "name": "stdout",
     "output_type": "stream",
     "text": [
      "Final Epoch 99, Loss: 0.0032511765985438943\n",
      "Accuracy: 100.00%\n",
      "Confusion Matrix:\n",
      "[[20  0  0]\n",
      " [ 0 24  0]\n",
      " [ 0  0 15]]\n",
      "\n",
      "Testing with 2 hidden layers and learning rate 0.1\n"
     ]
    },
    {
     "name": "stderr",
     "output_type": "stream",
     "text": [
      "Training MLP: 100%|██████████| 1000/1000 [00:00<00:00, 32213.33it/s]\n"
     ]
    },
    {
     "name": "stdout",
     "output_type": "stream",
     "text": [
      "Final Epoch 999, Loss: 0.00021851236288562893\n",
      "Accuracy: 100.00%\n",
      "Confusion Matrix:\n",
      "[[20  0  0]\n",
      " [ 0 24  0]\n",
      " [ 0  0 15]]\n",
      "\n",
      "Testing with 2 hidden layers and learning rate 0.1\n"
     ]
    },
    {
     "name": "stderr",
     "output_type": "stream",
     "text": [
      "Training MLP: 100%|██████████| 10000/10000 [00:00<00:00, 35369.18it/s]\n"
     ]
    },
    {
     "name": "stdout",
     "output_type": "stream",
     "text": [
      "Final Epoch 9999, Loss: 1.9270135908262373e-05\n",
      "Accuracy: 100.00%\n",
      "Confusion Matrix:\n",
      "[[20  0  0]\n",
      " [ 0 24  0]\n",
      " [ 0  0 15]]\n",
      "\n",
      "Testing with 2 hidden layers and learning rate 0.5\n"
     ]
    },
    {
     "name": "stderr",
     "output_type": "stream",
     "text": [
      "Training MLP: 100%|██████████| 100/100 [00:00<00:00, 25406.17it/s]\n"
     ]
    },
    {
     "name": "stdout",
     "output_type": "stream",
     "text": [
      "Final Epoch 99, Loss: 0.20053076322908775\n",
      "Accuracy: 40.68%\n",
      "Confusion Matrix:\n",
      "[[ 0 20  0]\n",
      " [ 0 24  0]\n",
      " [ 0 15  0]]\n",
      "\n",
      "Testing with 2 hidden layers and learning rate 0.5\n"
     ]
    },
    {
     "name": "stderr",
     "output_type": "stream",
     "text": [
      "Training MLP: 100%|██████████| 1000/1000 [00:00<00:00, 17583.08it/s]\n"
     ]
    },
    {
     "name": "stdout",
     "output_type": "stream",
     "text": [
      "Final Epoch 999, Loss: 0.08990598442207061\n",
      "Accuracy: 74.58%\n",
      "Confusion Matrix:\n",
      "[[20  0  0]\n",
      " [ 0 24  0]\n",
      " [14  1  0]]\n",
      "\n",
      "Testing with 2 hidden layers and learning rate 0.5\n"
     ]
    },
    {
     "name": "stderr",
     "output_type": "stream",
     "text": [
      "Training MLP: 100%|██████████| 10000/10000 [00:00<00:00, 37089.24it/s]\n"
     ]
    },
    {
     "name": "stdout",
     "output_type": "stream",
     "text": [
      "Final Epoch 9999, Loss: 4.054976332658819e-06\n",
      "Accuracy: 100.00%\n",
      "Confusion Matrix:\n",
      "[[20  0  0]\n",
      " [ 0 24  0]\n",
      " [ 0  0 15]]\n",
      "\n",
      "Testing with 4 hidden layers and learning rate 0.01\n"
     ]
    },
    {
     "name": "stderr",
     "output_type": "stream",
     "text": [
      "Training MLP: 100%|██████████| 100/100 [00:00<00:00, 23535.74it/s]\n"
     ]
    },
    {
     "name": "stdout",
     "output_type": "stream",
     "text": [
      "Final Epoch 99, Loss: 0.05677250832227215\n",
      "Accuracy: 96.61%\n",
      "Confusion Matrix:\n",
      "[[19  1  0]\n",
      " [ 1 23  0]\n",
      " [ 0  0 15]]\n",
      "\n",
      "Testing with 4 hidden layers and learning rate 0.01\n"
     ]
    },
    {
     "name": "stderr",
     "output_type": "stream",
     "text": [
      "Training MLP: 100%|██████████| 1000/1000 [00:00<00:00, 27504.17it/s]\n"
     ]
    },
    {
     "name": "stdout",
     "output_type": "stream",
     "text": [
      "Final Epoch 999, Loss: 0.0019930615004680337\n",
      "Accuracy: 100.00%\n",
      "Confusion Matrix:\n",
      "[[20  0  0]\n",
      " [ 0 24  0]\n",
      " [ 0  0 15]]\n",
      "\n",
      "Testing with 4 hidden layers and learning rate 0.01\n"
     ]
    },
    {
     "name": "stderr",
     "output_type": "stream",
     "text": [
      "Training MLP: 100%|██████████| 10000/10000 [00:00<00:00, 28863.53it/s]\n"
     ]
    },
    {
     "name": "stdout",
     "output_type": "stream",
     "text": [
      "Final Epoch 9999, Loss: 0.00012332551816770718\n",
      "Accuracy: 100.00%\n",
      "Confusion Matrix:\n",
      "[[20  0  0]\n",
      " [ 0 24  0]\n",
      " [ 0  0 15]]\n",
      "\n",
      "Testing with 4 hidden layers and learning rate 0.1\n"
     ]
    },
    {
     "name": "stderr",
     "output_type": "stream",
     "text": [
      "Training MLP: 100%|██████████| 100/100 [00:00<00:00, 23580.73it/s]\n"
     ]
    },
    {
     "name": "stdout",
     "output_type": "stream",
     "text": [
      "Final Epoch 99, Loss: 0.0019847662397258214\n",
      "Accuracy: 100.00%\n",
      "Confusion Matrix:\n",
      "[[20  0  0]\n",
      " [ 0 24  0]\n",
      " [ 0  0 15]]\n",
      "\n",
      "Testing with 4 hidden layers and learning rate 0.1\n"
     ]
    },
    {
     "name": "stderr",
     "output_type": "stream",
     "text": [
      "Training MLP: 100%|██████████| 1000/1000 [00:00<00:00, 27438.50it/s]\n"
     ]
    },
    {
     "name": "stdout",
     "output_type": "stream",
     "text": [
      "Final Epoch 999, Loss: 0.0001231839851077531\n",
      "Accuracy: 100.00%\n",
      "Confusion Matrix:\n",
      "[[20  0  0]\n",
      " [ 0 24  0]\n",
      " [ 0  0 15]]\n",
      "\n",
      "Testing with 4 hidden layers and learning rate 0.1\n"
     ]
    },
    {
     "name": "stderr",
     "output_type": "stream",
     "text": [
      "Training MLP: 100%|██████████| 10000/10000 [00:00<00:00, 28496.53it/s]\n"
     ]
    },
    {
     "name": "stdout",
     "output_type": "stream",
     "text": [
      "Final Epoch 9999, Loss: 1.0056136006763757e-05\n",
      "Accuracy: 100.00%\n",
      "Confusion Matrix:\n",
      "[[20  0  0]\n",
      " [ 0 24  0]\n",
      " [ 0  0 15]]\n",
      "\n",
      "Testing with 4 hidden layers and learning rate 0.5\n"
     ]
    },
    {
     "name": "stderr",
     "output_type": "stream",
     "text": [
      "Training MLP: 100%|██████████| 100/100 [00:00<00:00, 23970.19it/s]\n"
     ]
    },
    {
     "name": "stdout",
     "output_type": "stream",
     "text": [
      "Final Epoch 99, Loss: 0.0003648941074179784\n",
      "Accuracy: 100.00%\n",
      "Confusion Matrix:\n",
      "[[20  0  0]\n",
      " [ 0 24  0]\n",
      " [ 0  0 15]]\n",
      "\n",
      "Testing with 4 hidden layers and learning rate 0.5\n"
     ]
    },
    {
     "name": "stderr",
     "output_type": "stream",
     "text": [
      "Training MLP: 100%|██████████| 1000/1000 [00:00<00:00, 27370.46it/s]\n"
     ]
    },
    {
     "name": "stdout",
     "output_type": "stream",
     "text": [
      "Final Epoch 999, Loss: 2.9060297822402417e-05\n",
      "Accuracy: 100.00%\n",
      "Confusion Matrix:\n",
      "[[20  0  0]\n",
      " [ 0 24  0]\n",
      " [ 0  0 15]]\n",
      "\n",
      "Testing with 4 hidden layers and learning rate 0.5\n"
     ]
    },
    {
     "name": "stderr",
     "output_type": "stream",
     "text": [
      "Training MLP: 100%|██████████| 10000/10000 [00:00<00:00, 28539.55it/s]\n"
     ]
    },
    {
     "name": "stdout",
     "output_type": "stream",
     "text": [
      "Final Epoch 9999, Loss: 2.9954284200671434e-06\n",
      "Accuracy: 100.00%\n",
      "Confusion Matrix:\n",
      "[[20  0  0]\n",
      " [ 0 24  0]\n",
      " [ 0  0 15]]\n",
      "\n",
      "Testing with 8 hidden layers and learning rate 0.01\n"
     ]
    },
    {
     "name": "stderr",
     "output_type": "stream",
     "text": [
      "Training MLP: 100%|██████████| 100/100 [00:00<00:00, 20891.09it/s]\n"
     ]
    },
    {
     "name": "stdout",
     "output_type": "stream",
     "text": [
      "Final Epoch 99, Loss: 0.04814967866637947\n",
      "Accuracy: 98.31%\n",
      "Confusion Matrix:\n",
      "[[19  1  0]\n",
      " [ 0 24  0]\n",
      " [ 0  0 15]]\n",
      "\n",
      "Testing with 8 hidden layers and learning rate 0.01\n"
     ]
    },
    {
     "name": "stderr",
     "output_type": "stream",
     "text": [
      "Training MLP: 100%|██████████| 1000/1000 [00:00<00:00, 21826.92it/s]\n"
     ]
    },
    {
     "name": "stdout",
     "output_type": "stream",
     "text": [
      "Final Epoch 999, Loss: 0.001913400264254685\n",
      "Accuracy: 100.00%\n",
      "Confusion Matrix:\n",
      "[[20  0  0]\n",
      " [ 0 24  0]\n",
      " [ 0  0 15]]\n",
      "\n",
      "Testing with 8 hidden layers and learning rate 0.01\n"
     ]
    },
    {
     "name": "stderr",
     "output_type": "stream",
     "text": [
      "Training MLP: 100%|██████████| 10000/10000 [00:00<00:00, 24636.97it/s]\n"
     ]
    },
    {
     "name": "stdout",
     "output_type": "stream",
     "text": [
      "Final Epoch 9999, Loss: 0.00010454723733226173\n",
      "Accuracy: 100.00%\n",
      "Confusion Matrix:\n",
      "[[20  0  0]\n",
      " [ 0 24  0]\n",
      " [ 0  0 15]]\n",
      "\n",
      "Testing with 8 hidden layers and learning rate 0.1\n"
     ]
    },
    {
     "name": "stderr",
     "output_type": "stream",
     "text": [
      "Training MLP: 100%|██████████| 100/100 [00:00<00:00, 21231.61it/s]\n"
     ]
    },
    {
     "name": "stdout",
     "output_type": "stream",
     "text": [
      "Final Epoch 99, Loss: 0.0022276413058105616\n",
      "Accuracy: 100.00%\n",
      "Confusion Matrix:\n",
      "[[20  0  0]\n",
      " [ 0 24  0]\n",
      " [ 0  0 15]]\n",
      "\n",
      "Testing with 8 hidden layers and learning rate 0.1\n"
     ]
    },
    {
     "name": "stderr",
     "output_type": "stream",
     "text": [
      "Training MLP: 100%|██████████| 1000/1000 [00:00<00:00, 23872.51it/s]\n"
     ]
    },
    {
     "name": "stdout",
     "output_type": "stream",
     "text": [
      "Final Epoch 999, Loss: 0.00010634680415606409\n",
      "Accuracy: 100.00%\n",
      "Confusion Matrix:\n",
      "[[20  0  0]\n",
      " [ 0 24  0]\n",
      " [ 0  0 15]]\n",
      "\n",
      "Testing with 8 hidden layers and learning rate 0.1\n"
     ]
    },
    {
     "name": "stderr",
     "output_type": "stream",
     "text": [
      "Training MLP: 100%|██████████| 10000/10000 [00:00<00:00, 24783.38it/s]\n"
     ]
    },
    {
     "name": "stdout",
     "output_type": "stream",
     "text": [
      "Final Epoch 9999, Loss: 7.837299353067711e-06\n",
      "Accuracy: 100.00%\n",
      "Confusion Matrix:\n",
      "[[20  0  0]\n",
      " [ 0 24  0]\n",
      " [ 0  0 15]]\n",
      "\n",
      "Testing with 8 hidden layers and learning rate 0.5\n"
     ]
    },
    {
     "name": "stderr",
     "output_type": "stream",
     "text": [
      "Training MLP: 100%|██████████| 100/100 [00:00<00:00, 21925.27it/s]\n"
     ]
    },
    {
     "name": "stdout",
     "output_type": "stream",
     "text": [
      "Final Epoch 99, Loss: 0.0003111427723735155\n",
      "Accuracy: 100.00%\n",
      "Confusion Matrix:\n",
      "[[20  0  0]\n",
      " [ 0 24  0]\n",
      " [ 0  0 15]]\n",
      "\n",
      "Testing with 8 hidden layers and learning rate 0.5\n"
     ]
    },
    {
     "name": "stderr",
     "output_type": "stream",
     "text": [
      "Training MLP: 100%|██████████| 1000/1000 [00:00<00:00, 24389.60it/s]\n"
     ]
    },
    {
     "name": "stdout",
     "output_type": "stream",
     "text": [
      "Final Epoch 999, Loss: 2.7530480693615916e-05\n",
      "Accuracy: 100.00%\n",
      "Confusion Matrix:\n",
      "[[20  0  0]\n",
      " [ 0 24  0]\n",
      " [ 0  0 15]]\n",
      "\n",
      "Testing with 8 hidden layers and learning rate 0.5\n"
     ]
    },
    {
     "name": "stderr",
     "output_type": "stream",
     "text": [
      "Training MLP: 100%|██████████| 10000/10000 [00:00<00:00, 23830.05it/s]"
     ]
    },
    {
     "name": "stdout",
     "output_type": "stream",
     "text": [
      "Final Epoch 9999, Loss: 2.626514092571934e-06\n",
      "Accuracy: 100.00%\n",
      "Confusion Matrix:\n",
      "[[20  0  0]\n",
      " [ 0 24  0]\n",
      " [ 0  0 15]]\n",
      "\n",
      "Best Accuracy: 100.00%\n"
     ]
    },
    {
     "name": "stderr",
     "output_type": "stream",
     "text": [
      "\n"
     ]
    }
   ],
   "source": [
    "from sklearn.metrics import confusion_matrix, classification_report, accuracy_score\n",
    "\n",
    "# Define a function to test multiple hyperparameters\n",
    "def test_hyperparams(X, y, hidden_layers_list, learning_rates, epochs_list):\n",
    "    best_accuracy = 0\n",
    "    best_params = {}\n",
    "    for hidden_layers in hidden_layers_list:\n",
    "        for lr in learning_rates:\n",
    "            for epochs in epochs_list:\n",
    "                print(f\"Testing with {hidden_layers} hidden layers and learning rate {lr}\")\n",
    "                W1, b1, W2, b2, predicted_output = train_mlp(X, y, num_of_hidden_layers=hidden_layers, learning_rate=lr, epochs=epochs)\n",
    "                hidden_layer_output, predicted_output = forward(X_test, W1, b1, W2, b2)\n",
    "                y_pred_test = np.argmax(predicted_output, axis=1)\n",
    "                y_true_test = np.argmax(y_test, axis=1)\n",
    "                accuracy = accuracy_score(y_true_test, y_pred_test)\n",
    "                print(f\"Accuracy: {accuracy * 100:.2f}%\")\n",
    "                conf_matrix = confusion_matrix(y_true_test, y_pred_test)\n",
    "                print(\"Confusion Matrix:\")\n",
    "                print(conf_matrix)\n",
    "                print()\n",
    "                if accuracy > best_accuracy:\n",
    "                    best_accuracy = accuracy\n",
    "                    best_params = {'hidden_layers': hidden_layers, 'learning_rate': lr, 'W1': W1, 'b1': b1, 'W2': W2, 'b2': b2}\n",
    "    return best_params, best_accuracy\n",
    "\n",
    "# Define hyperparameters to test\n",
    "hidden_layers_list = [2, 4, 8]\n",
    "learning_rates = [0.01, 0.1, 0.5]\n",
    "epochs_list = [100, 1000, 10000]\n",
    "\n",
    "# Test hyperparameters\n",
    "best_params, best_accuracy = test_hyperparams(X, y, hidden_layers_list, learning_rates, epochs_list)\n",
    "print(f\"Best Accuracy: {best_accuracy * 100:.2f}%\")"
   ]
  }
 ],
 "metadata": {
  "kernelspec": {
   "display_name": "hw1-KtcfsTQj-py3.12",
   "language": "python",
   "name": "python3"
  },
  "language_info": {
   "codemirror_mode": {
    "name": "ipython",
    "version": 3
   },
   "file_extension": ".py",
   "mimetype": "text/x-python",
   "name": "python",
   "nbconvert_exporter": "python",
   "pygments_lexer": "ipython3",
   "version": "3.12.7"
  }
 },
 "nbformat": 4,
 "nbformat_minor": 2
}
