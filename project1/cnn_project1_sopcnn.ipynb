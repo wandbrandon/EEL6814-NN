{
 "cells": [
  {
   "cell_type": "code",
   "execution_count": 62,
   "metadata": {},
   "outputs": [],
   "source": [
    "import torch\n",
    "import torch.nn as nn\n",
    "import torch.optim as optim\n",
    "import torchvision\n",
    "import torchvision.transforms as transforms\n",
    "import matplotlib.pyplot as plt\n",
    "import numpy as np\n",
    "from tqdm import tqdm\n",
    "from sklearn.metrics import confusion_matrix, ConfusionMatrixDisplay\n",
    "import torchlens\n",
    "\n",
    "# Device configuration\n",
    "# I am using a Mac M3 chip, so I can't use CUDA, but if you are on nvidia, change this to CUDA\n",
    "device = torch.device(\"mps\")"
   ]
  },
  {
   "cell_type": "code",
   "execution_count": 34,
   "metadata": {},
   "outputs": [],
   "source": [
    "num_epochs = 1000\n",
    "batch_size = 1024\n",
    "learning_rate = 0.004"
   ]
  },
  {
   "cell_type": "code",
   "execution_count": 35,
   "metadata": {},
   "outputs": [
    {
     "data": {
      "text/plain": [
       "(tensor(0.1918), tensor(0.3483))"
      ]
     },
     "execution_count": 35,
     "metadata": {},
     "output_type": "execute_result"
    }
   ],
   "source": [
    "train_dataset = torchvision.datasets.KMNIST(root='./data', train=True, download=True, transform=transforms.ToTensor())\n",
    "# get mean and std of the dataset\n",
    "train_loader = torch.utils.data.DataLoader(dataset=train_dataset, batch_size=len(train_dataset), shuffle=False)\n",
    "data = next(iter(train_loader))\n",
    "mean = data[0].mean()\n",
    "std = data[0].std()\n",
    "\n",
    "(mean, std)"
   ]
  },
  {
   "cell_type": "code",
   "execution_count": 36,
   "metadata": {},
   "outputs": [
    {
     "data": {
      "image/png": "[encoded data removed]",
      "text/plain": [
       "<Figure size 640x480 with 6 Axes>"
      ]
     },
     "metadata": {},
     "output_type": "display_data"
    }
   ],
   "source": [
    "# KMNIST dataset\n",
    "transform_train = transforms.Compose([\n",
    "        transforms.RandomRotation(10),  # Rotation\n",
    "        transforms.RandomAffine(0, shear=10),  # Shearing\n",
    "        transforms.RandomAffine(0, translate=(0.1, 0.1)),  # Shifting up and down\n",
    "        transforms.RandomResizedCrop(28, scale=(0.8, 1.0)),  # Zooming\n",
    "        transforms.Resize((28, 28)),  # Rescale\n",
    "        transforms.ToTensor(),\n",
    "        transforms.Normalize(mean=mean, std=std)\n",
    "    ])\n",
    "\n",
    "transform_test = transforms.Compose([transforms.ToTensor(), transforms.Normalize(mean=mean, std=std)])\n",
    "\n",
    "train_dataset = torchvision.datasets.KMNIST(root='./data', train=True, download=True, transform=transform_train)\n",
    "test_dataset = torchvision.datasets.KMNIST(root='./data', train=False, download=True, transform=transform_test)\n",
    "\n",
    "train_loader = torch.utils.data.DataLoader(dataset=train_dataset, batch_size=batch_size, shuffle=False)\n",
    "test_loader = torch.utils.data.DataLoader(dataset=test_dataset, batch_size=batch_size, shuffle=False)\n",
    "\n",
    "# visualize some of the data\n",
    "examples = iter(train_loader)\n",
    "example_data, example_targets = next(examples)\n",
    "for i in range(6):\n",
    "    plt.subplot(2, 3, i+1)\n",
    "    plt.title(example_targets[i].item())\n",
    "    plt.axis('off')\n",
    "    plt.imshow(example_data[i][0], cmap='gray')"
   ]
  },
  {
   "cell_type": "code",
   "execution_count": 67,
   "metadata": {},
   "outputs": [
    {
     "data": {
      "image/svg+xml": [
       "<?xml version=\"1.0\" encoding=\"UTF-8\" standalone=\"no\"?>\n",
       "<!DOCTYPE svg PUBLIC \"-//W3C//DTD SVG 1.1//EN\"\n",
       " \"http://www.w3.org/Graphics/SVG/1.1/DTD/svg11.dtd\">\n",
       "<!-- Generated by graphviz version 12.1.2 (20240928.0832)\n",
       " -->\n",
       "<!-- Title: SOPCNN Pages: 1 -->\n",
       "<svg width=\"229pt\" height=\"1441pt\"\n",
       " viewBox=\"0.00 0.00 228.97 1441.07\" xmlns=\"http://www.w3.org/2000/svg\" xmlns:xlink=\"http://www.w3.org/1999/xlink\">\n",
       "<g id=\"graph0\" class=\"graph\" transform=\"scale(1 1) rotate(0) translate(4 1437.07)\">\n",
       "<title>SOPCNN</title>\n",
       "<polygon fill=\"white\" stroke=\"none\" points=\"-4,4 -4,-1437.07 224.97,-1437.07 224.97,4 -4,4\"/>\n",
       "<text text-anchor=\"start\" x=\"8\" y=\"-1416.77\" font-family=\"Times,serif\" font-weight=\"bold\" font-size=\"14.00\">SOPCNN</text>\n",
       "<text text-anchor=\"start\" x=\"8\" y=\"-1402.77\" font-family=\"Times,serif\" font-size=\"14.00\">15 tensors total (1.1 MB)</text>\n",
       "<text text-anchor=\"start\" x=\"8\" y=\"-1388.77\" font-family=\"Times,serif\" font-size=\"14.00\">26100490 params total (99.6 MB)</text>\n",
       "<!-- input_1 -->\n",
       "<g id=\"node1\" class=\"node\">\n",
       "<title>input_1</title>\n",
       "<ellipse fill=\"#98fb98\" stroke=\"black\" cx=\"110.49\" cy=\"-1347.71\" rx=\"91.39\" ry=\"35.36\"/>\n",
       "<text text-anchor=\"start\" x=\"88.36\" y=\"-1356.41\" font-family=\"Times,serif\" font-weight=\"bold\" font-size=\"14.00\">input_1</text>\n",
       "<text text-anchor=\"start\" x=\"53.86\" y=\"-1342.41\" font-family=\"Times,serif\" font-size=\"14.00\">1x1x28x28 (3.2 KB)</text>\n",
       "<text text-anchor=\"start\" x=\"84.99\" y=\"-1328.41\" font-family=\"Times,serif\" font-size=\"14.00\">@input.x</text>\n",
       "</g>\n",
       "<!-- conv2d_1_1 -->\n",
       "<g id=\"node2\" class=\"node\">\n",
       "<title>conv2d_1_1</title>\n",
       "<polygon fill=\"#e6e6e6\" stroke=\"black\" points=\"182.99,-1276.36 37.99,-1276.36 37.99,-1212.36 182.99,-1212.36 182.99,-1276.36\"/>\n",
       "<text text-anchor=\"start\" x=\"76.36\" y=\"-1260.06\" font-family=\"Times,serif\" font-weight=\"bold\" font-size=\"14.00\">conv2d_1_1</text>\n",
       "<text text-anchor=\"start\" x=\"47.11\" y=\"-1246.06\" font-family=\"Times,serif\" font-size=\"14.00\">1x32x28x28 (98.2 KB)</text>\n",
       "<text text-anchor=\"start\" x=\"45.99\" y=\"-1232.06\" font-family=\"Times,serif\" font-size=\"14.00\">params: 32x1x3x3, x32</text>\n",
       "<text text-anchor=\"start\" x=\"87.61\" y=\"-1218.06\" font-family=\"Times,serif\" font-size=\"14.00\">@conv1</text>\n",
       "</g>\n",
       "<!-- input_1&#45;&gt;conv2d_1_1 -->\n",
       "<g id=\"edge1\" class=\"edge\">\n",
       "<title>input_1&#45;&gt;conv2d_1_1</title>\n",
       "<path fill=\"none\" stroke=\"black\" d=\"M110.49,-1312.12C110.49,-1303.42 110.49,-1294.03 110.49,-1285.11\"/>\n",
       "<polygon fill=\"black\" stroke=\"black\" points=\"112.94,-1285.25 110.49,-1278.25 108.04,-1285.25 112.94,-1285.25\"/>\n",
       "</g>\n",
       "<!-- conv2d_2_2 -->\n",
       "<g id=\"node3\" class=\"node\">\n",
       "<title>conv2d_2_2</title>\n",
       "<polygon fill=\"#e6e6e6\" stroke=\"black\" points=\"186.36,-1176.36 34.61,-1176.36 34.61,-1112.36 186.36,-1112.36 186.36,-1176.36\"/>\n",
       "<text text-anchor=\"start\" x=\"76.36\" y=\"-1160.06\" font-family=\"Times,serif\" font-weight=\"bold\" font-size=\"14.00\">conv2d_2_2</text>\n",
       "<text text-anchor=\"start\" x=\"43.74\" y=\"-1146.06\" font-family=\"Times,serif\" font-size=\"14.00\">1x64x28x28 (196.2 KB)</text>\n",
       "<text text-anchor=\"start\" x=\"42.61\" y=\"-1132.06\" font-family=\"Times,serif\" font-size=\"14.00\">params: 64x32x3x3, x64</text>\n",
       "<text text-anchor=\"start\" x=\"87.61\" y=\"-1118.06\" font-family=\"Times,serif\" font-size=\"14.00\">@conv2</text>\n",
       "</g>\n",
       "<!-- conv2d_1_1&#45;&gt;conv2d_2_2 -->\n",
       "<g id=\"edge2\" class=\"edge\">\n",
       "<title>conv2d_1_1&#45;&gt;conv2d_2_2</title>\n",
       "<path fill=\"none\" stroke=\"black\" d=\"M110.49,-1212.08C110.49,-1203.51 110.49,-1194.09 110.49,-1185.11\"/>\n",
       "<polygon fill=\"black\" stroke=\"black\" points=\"112.94,-1185.19 110.49,-1178.19 108.04,-1185.19 112.94,-1185.19\"/>\n",
       "</g>\n",
       "<!-- relu_1_3 -->\n",
       "<g id=\"node4\" class=\"node\">\n",
       "<title>relu_1_3</title>\n",
       "<ellipse fill=\"white\" stroke=\"black\" cx=\"110.49\" cy=\"-1050.9\" rx=\"105.71\" ry=\"25.46\"/>\n",
       "<text text-anchor=\"start\" x=\"85.36\" y=\"-1052.6\" font-family=\"Times,serif\" font-weight=\"bold\" font-size=\"14.00\">relu_1_3</text>\n",
       "<text text-anchor=\"start\" x=\"43.74\" y=\"-1038.6\" font-family=\"Times,serif\" font-size=\"14.00\">1x64x28x28 (196.2 KB)</text>\n",
       "</g>\n",
       "<!-- conv2d_2_2&#45;&gt;relu_1_3 -->\n",
       "<g id=\"edge3\" class=\"edge\">\n",
       "<title>conv2d_2_2&#45;&gt;relu_1_3</title>\n",
       "<path fill=\"none\" stroke=\"black\" d=\"M110.49,-1111.88C110.49,-1103.28 110.49,-1093.93 110.49,-1085.23\"/>\n",
       "<polygon fill=\"black\" stroke=\"black\" points=\"112.94,-1085.31 110.49,-1078.31 108.04,-1085.31 112.94,-1085.31\"/>\n",
       "</g>\n",
       "<!-- maxpool2d_1_4 -->\n",
       "<g id=\"node5\" class=\"node\">\n",
       "<title>maxpool2d_1_4</title>\n",
       "<polygon fill=\"white\" stroke=\"black\" points=\"181.86,-989.45 39.11,-989.45 39.11,-939.45 181.86,-939.45 181.86,-989.45\"/>\n",
       "<text text-anchor=\"start\" x=\"64.74\" y=\"-973.15\" font-family=\"Times,serif\" font-weight=\"bold\" font-size=\"14.00\">maxpool2d_1_4</text>\n",
       "<text text-anchor=\"start\" x=\"47.11\" y=\"-959.15\" font-family=\"Times,serif\" font-size=\"14.00\">1x64x14x14 (49.2 KB)</text>\n",
       "<text text-anchor=\"start\" x=\"86.86\" y=\"-945.15\" font-family=\"Times,serif\" font-size=\"14.00\">@pool:1</text>\n",
       "</g>\n",
       "<!-- relu_1_3&#45;&gt;maxpool2d_1_4 -->\n",
       "<g id=\"edge4\" class=\"edge\">\n",
       "<title>relu_1_3&#45;&gt;maxpool2d_1_4</title>\n",
       "<path fill=\"none\" stroke=\"black\" d=\"M110.49,-1025.02C110.49,-1016.61 110.49,-1007.09 110.49,-998.17\"/>\n",
       "<polygon fill=\"black\" stroke=\"black\" points=\"112.94,-998.37 110.49,-991.37 108.04,-998.37 112.94,-998.37\"/>\n",
       "</g>\n",
       "<!-- conv2d_3_5 -->\n",
       "<g id=\"node6\" class=\"node\">\n",
       "<title>conv2d_3_5</title>\n",
       "<polygon fill=\"#e6e6e6\" stroke=\"black\" points=\"193.11,-903.45 27.86,-903.45 27.86,-839.45 193.11,-839.45 193.11,-903.45\"/>\n",
       "<text text-anchor=\"start\" x=\"76.36\" y=\"-887.15\" font-family=\"Times,serif\" font-weight=\"bold\" font-size=\"14.00\">conv2d_3_5</text>\n",
       "<text text-anchor=\"start\" x=\"43.74\" y=\"-873.15\" font-family=\"Times,serif\" font-size=\"14.00\">1x128x14x14 (98.2 KB)</text>\n",
       "<text text-anchor=\"start\" x=\"35.86\" y=\"-859.15\" font-family=\"Times,serif\" font-size=\"14.00\">params: 128x64x3x3, x128</text>\n",
       "<text text-anchor=\"start\" x=\"87.61\" y=\"-845.15\" font-family=\"Times,serif\" font-size=\"14.00\">@conv3</text>\n",
       "</g>\n",
       "<!-- maxpool2d_1_4&#45;&gt;conv2d_3_5 -->\n",
       "<g id=\"edge5\" class=\"edge\">\n",
       "<title>maxpool2d_1_4&#45;&gt;conv2d_3_5</title>\n",
       "<path fill=\"none\" stroke=\"black\" d=\"M110.49,-939.06C110.49,-930.76 110.49,-921.25 110.49,-912.06\"/>\n",
       "<polygon fill=\"black\" stroke=\"black\" points=\"112.94,-912.28 110.49,-905.28 108.04,-912.28 112.94,-912.28\"/>\n",
       "</g>\n",
       "<!-- conv2d_4_6 -->\n",
       "<g id=\"node7\" class=\"node\">\n",
       "<title>conv2d_4_6</title>\n",
       "<polygon fill=\"#e6e6e6\" stroke=\"black\" points=\"196.49,-803.45 24.49,-803.45 24.49,-739.45 196.49,-739.45 196.49,-803.45\"/>\n",
       "<text text-anchor=\"start\" x=\"76.36\" y=\"-787.15\" font-family=\"Times,serif\" font-weight=\"bold\" font-size=\"14.00\">conv2d_4_6</text>\n",
       "<text text-anchor=\"start\" x=\"40.36\" y=\"-773.15\" font-family=\"Times,serif\" font-size=\"14.00\">1x256x14x14 (196.2 KB)</text>\n",
       "<text text-anchor=\"start\" x=\"32.49\" y=\"-759.15\" font-family=\"Times,serif\" font-size=\"14.00\">params: 256x128x3x3, x256</text>\n",
       "<text text-anchor=\"start\" x=\"87.61\" y=\"-745.15\" font-family=\"Times,serif\" font-size=\"14.00\">@conv4</text>\n",
       "</g>\n",
       "<!-- conv2d_3_5&#45;&gt;conv2d_4_6 -->\n",
       "<g id=\"edge6\" class=\"edge\">\n",
       "<title>conv2d_3_5&#45;&gt;conv2d_4_6</title>\n",
       "<path fill=\"none\" stroke=\"black\" d=\"M110.49,-839.17C110.49,-830.59 110.49,-821.18 110.49,-812.2\"/>\n",
       "<polygon fill=\"black\" stroke=\"black\" points=\"112.94,-812.28 110.49,-805.28 108.04,-812.28 112.94,-812.28\"/>\n",
       "</g>\n",
       "<!-- relu_2_7 -->\n",
       "<g id=\"node8\" class=\"node\">\n",
       "<title>relu_2_7</title>\n",
       "<ellipse fill=\"white\" stroke=\"black\" cx=\"110.49\" cy=\"-677.99\" rx=\"110.49\" ry=\"25.46\"/>\n",
       "<text text-anchor=\"start\" x=\"85.36\" y=\"-679.69\" font-family=\"Times,serif\" font-weight=\"bold\" font-size=\"14.00\">relu_2_7</text>\n",
       "<text text-anchor=\"start\" x=\"40.36\" y=\"-665.69\" font-family=\"Times,serif\" font-size=\"14.00\">1x256x14x14 (196.2 KB)</text>\n",
       "</g>\n",
       "<!-- conv2d_4_6&#45;&gt;relu_2_7 -->\n",
       "<g id=\"edge7\" class=\"edge\">\n",
       "<title>conv2d_4_6&#45;&gt;relu_2_7</title>\n",
       "<path fill=\"none\" stroke=\"black\" d=\"M110.49,-738.97C110.49,-730.37 110.49,-721.02 110.49,-712.32\"/>\n",
       "<polygon fill=\"black\" stroke=\"black\" points=\"112.94,-712.39 110.49,-705.39 108.04,-712.39 112.94,-712.39\"/>\n",
       "</g>\n",
       "<!-- maxpool2d_2_8 -->\n",
       "<g id=\"node9\" class=\"node\">\n",
       "<title>maxpool2d_2_8</title>\n",
       "<polygon fill=\"white\" stroke=\"black\" points=\"178.49,-616.53 42.49,-616.53 42.49,-566.53 178.49,-566.53 178.49,-616.53\"/>\n",
       "<text text-anchor=\"start\" x=\"64.74\" y=\"-600.23\" font-family=\"Times,serif\" font-weight=\"bold\" font-size=\"14.00\">maxpool2d_2_8</text>\n",
       "<text text-anchor=\"start\" x=\"50.49\" y=\"-586.23\" font-family=\"Times,serif\" font-size=\"14.00\">1x256x7x7 (49.2 KB)</text>\n",
       "<text text-anchor=\"start\" x=\"86.86\" y=\"-572.23\" font-family=\"Times,serif\" font-size=\"14.00\">@pool:2</text>\n",
       "</g>\n",
       "<!-- relu_2_7&#45;&gt;maxpool2d_2_8 -->\n",
       "<g id=\"edge8\" class=\"edge\">\n",
       "<title>relu_2_7&#45;&gt;maxpool2d_2_8</title>\n",
       "<path fill=\"none\" stroke=\"black\" d=\"M110.49,-652.11C110.49,-643.7 110.49,-634.18 110.49,-625.26\"/>\n",
       "<polygon fill=\"black\" stroke=\"black\" points=\"112.94,-625.46 110.49,-618.46 108.04,-625.46 112.94,-625.46\"/>\n",
       "</g>\n",
       "<!-- view_1_9 -->\n",
       "<g id=\"node10\" class=\"node\">\n",
       "<title>view_1_9</title>\n",
       "<ellipse fill=\"white\" stroke=\"black\" cx=\"110.49\" cy=\"-505.08\" rx=\"86.62\" ry=\"25.46\"/>\n",
       "<text text-anchor=\"start\" x=\"83.86\" y=\"-506.78\" font-family=\"Times,serif\" font-weight=\"bold\" font-size=\"14.00\">view_1_9</text>\n",
       "<text text-anchor=\"start\" x=\"57.24\" y=\"-492.78\" font-family=\"Times,serif\" font-size=\"14.00\">1x12544 (49.1 KB)</text>\n",
       "</g>\n",
       "<!-- maxpool2d_2_8&#45;&gt;view_1_9 -->\n",
       "<g id=\"edge9\" class=\"edge\">\n",
       "<title>maxpool2d_2_8&#45;&gt;view_1_9</title>\n",
       "<path fill=\"none\" stroke=\"black\" d=\"M110.49,-566.11C110.49,-557.69 110.49,-548.12 110.49,-539.13\"/>\n",
       "<polygon fill=\"black\" stroke=\"black\" points=\"112.94,-539.26 110.49,-532.26 108.04,-539.26 112.94,-539.26\"/>\n",
       "</g>\n",
       "<!-- linear_1_10 -->\n",
       "<g id=\"node11\" class=\"node\">\n",
       "<title>linear_1_10</title>\n",
       "<polygon fill=\"#e6e6e6\" stroke=\"black\" points=\"196.49,-443.62 24.49,-443.62 24.49,-379.62 196.49,-379.62 196.49,-443.62\"/>\n",
       "<text text-anchor=\"start\" x=\"76.74\" y=\"-427.32\" font-family=\"Times,serif\" font-weight=\"bold\" font-size=\"14.00\">linear_1_10</text>\n",
       "<text text-anchor=\"start\" x=\"63.99\" y=\"-413.32\" font-family=\"Times,serif\" font-size=\"14.00\">1x2048 (8.1 KB)</text>\n",
       "<text text-anchor=\"start\" x=\"32.49\" y=\"-399.32\" font-family=\"Times,serif\" font-size=\"14.00\">params: 2048x12544, x2048</text>\n",
       "<text text-anchor=\"start\" x=\"95.49\" y=\"-385.32\" font-family=\"Times,serif\" font-size=\"14.00\">@fc1</text>\n",
       "</g>\n",
       "<!-- view_1_9&#45;&gt;linear_1_10 -->\n",
       "<g id=\"edge10\" class=\"edge\">\n",
       "<title>view_1_9&#45;&gt;linear_1_10</title>\n",
       "<path fill=\"none\" stroke=\"black\" d=\"M110.49,-479.57C110.49,-471.22 110.49,-461.67 110.49,-452.44\"/>\n",
       "<polygon fill=\"black\" stroke=\"black\" points=\"112.94,-452.61 110.49,-445.61 108.04,-452.61 112.94,-452.61\"/>\n",
       "</g>\n",
       "<!-- relu_3_11 -->\n",
       "<g id=\"node12\" class=\"node\">\n",
       "<title>relu_3_11</title>\n",
       "<ellipse fill=\"white\" stroke=\"black\" cx=\"110.49\" cy=\"-318.17\" rx=\"77.07\" ry=\"25.46\"/>\n",
       "<text text-anchor=\"start\" x=\"81.99\" y=\"-319.87\" font-family=\"Times,serif\" font-weight=\"bold\" font-size=\"14.00\">relu_3_11</text>\n",
       "<text text-anchor=\"start\" x=\"63.99\" y=\"-305.87\" font-family=\"Times,serif\" font-size=\"14.00\">1x2048 (8.1 KB)</text>\n",
       "</g>\n",
       "<!-- linear_1_10&#45;&gt;relu_3_11 -->\n",
       "<g id=\"edge11\" class=\"edge\">\n",
       "<title>linear_1_10&#45;&gt;relu_3_11</title>\n",
       "<path fill=\"none\" stroke=\"black\" d=\"M110.49,-379.15C110.49,-370.55 110.49,-361.19 110.49,-352.49\"/>\n",
       "<polygon fill=\"black\" stroke=\"black\" points=\"112.94,-352.57 110.49,-345.57 108.04,-352.57 112.94,-352.57\"/>\n",
       "</g>\n",
       "<!-- dropout_1_12 -->\n",
       "<g id=\"node13\" class=\"node\">\n",
       "<title>dropout_1_12</title>\n",
       "<polygon fill=\"white\" stroke=\"black\" points=\"164.99,-256.71 55.99,-256.71 55.99,-206.71 164.99,-206.71 164.99,-256.71\"/>\n",
       "<text text-anchor=\"start\" x=\"70.36\" y=\"-240.41\" font-family=\"Times,serif\" font-weight=\"bold\" font-size=\"14.00\">dropout_1_12</text>\n",
       "<text text-anchor=\"start\" x=\"63.99\" y=\"-226.41\" font-family=\"Times,serif\" font-size=\"14.00\">1x2048 (8.1 KB)</text>\n",
       "<text text-anchor=\"start\" x=\"83.11\" y=\"-212.41\" font-family=\"Times,serif\" font-size=\"14.00\">@dropout</text>\n",
       "</g>\n",
       "<!-- relu_3_11&#45;&gt;dropout_1_12 -->\n",
       "<g id=\"edge12\" class=\"edge\">\n",
       "<title>relu_3_11&#45;&gt;dropout_1_12</title>\n",
       "<path fill=\"none\" stroke=\"black\" d=\"M110.49,-292.28C110.49,-283.88 110.49,-274.36 110.49,-265.44\"/>\n",
       "<polygon fill=\"black\" stroke=\"black\" points=\"112.94,-265.64 110.49,-258.64 108.04,-265.64 112.94,-265.64\"/>\n",
       "</g>\n",
       "<!-- linear_2_13 -->\n",
       "<g id=\"node14\" class=\"node\">\n",
       "<title>linear_2_13</title>\n",
       "<polygon fill=\"#e6e6e6\" stroke=\"black\" points=\"179.61,-170.71 41.36,-170.71 41.36,-106.71 179.61,-106.71 179.61,-170.71\"/>\n",
       "<text text-anchor=\"start\" x=\"76.74\" y=\"-154.41\" font-family=\"Times,serif\" font-weight=\"bold\" font-size=\"14.00\">linear_2_13</text>\n",
       "<text text-anchor=\"start\" x=\"74.11\" y=\"-140.41\" font-family=\"Times,serif\" font-size=\"14.00\">1x10 (168 B)</text>\n",
       "<text text-anchor=\"start\" x=\"49.36\" y=\"-126.41\" font-family=\"Times,serif\" font-size=\"14.00\">params: 10x2048, x10</text>\n",
       "<text text-anchor=\"start\" x=\"95.49\" y=\"-112.41\" font-family=\"Times,serif\" font-size=\"14.00\">@fc2</text>\n",
       "</g>\n",
       "<!-- dropout_1_12&#45;&gt;linear_2_13 -->\n",
       "<g id=\"edge13\" class=\"edge\">\n",
       "<title>dropout_1_12&#45;&gt;linear_2_13</title>\n",
       "<path fill=\"none\" stroke=\"black\" d=\"M110.49,-206.32C110.49,-198.02 110.49,-188.51 110.49,-179.33\"/>\n",
       "<polygon fill=\"black\" stroke=\"black\" points=\"112.94,-179.54 110.49,-172.54 108.04,-179.54 112.94,-179.54\"/>\n",
       "</g>\n",
       "<!-- output_1 -->\n",
       "<g id=\"node15\" class=\"node\">\n",
       "<title>output_1</title>\n",
       "<ellipse fill=\"#ff9999\" stroke=\"black\" cx=\"110.49\" cy=\"-35.36\" rx=\"62.76\" ry=\"35.36\"/>\n",
       "<text text-anchor=\"start\" x=\"84.61\" y=\"-44.06\" font-family=\"Times,serif\" font-weight=\"bold\" font-size=\"14.00\">output_1</text>\n",
       "<text text-anchor=\"start\" x=\"74.11\" y=\"-30.06\" font-family=\"Times,serif\" font-size=\"14.00\">1x10 (168 B)</text>\n",
       "<text text-anchor=\"start\" x=\"86.86\" y=\"-16.06\" font-family=\"Times,serif\" font-size=\"14.00\">@output</text>\n",
       "</g>\n",
       "<!-- linear_2_13&#45;&gt;output_1 -->\n",
       "<g id=\"edge14\" class=\"edge\">\n",
       "<title>linear_2_13&#45;&gt;output_1</title>\n",
       "<path fill=\"none\" stroke=\"black\" d=\"M110.49,-106.47C110.49,-98.01 110.49,-88.7 110.49,-79.69\"/>\n",
       "<polygon fill=\"black\" stroke=\"black\" points=\"112.94,-79.71 110.49,-72.71 108.04,-79.71 112.94,-79.71\"/>\n",
       "</g>\n",
       "</g>\n",
       "</svg>\n"
      ],
      "text/plain": [
       "<graphviz.graphs.Digraph at 0x14c66ce60>"
      ]
     },
     "metadata": {},
     "output_type": "display_data"
    }
   ],
   "source": [
    "class SOPCNN(nn.Module):\n",
    "    def __init__(self, num_classes=10):\n",
    "        super(SOPCNN, self).__init__()\n",
    "        self.conv1 = nn.Conv2d(1, 32, kernel_size=3, padding=1)\n",
    "        self.conv2 = nn.Conv2d(32, 64, kernel_size=3, padding=1)\n",
    "        self.conv3 = nn.Conv2d(64, 128, kernel_size=3, padding=1)\n",
    "        self.conv4 = nn.Conv2d(128, 256, kernel_size=3, padding=1)\n",
    "        self.pool = nn.MaxPool2d(kernel_size=2, stride=2)\n",
    "        self.fc1 = nn.Linear(256 * 7 * 7, 2048)\n",
    "        self.fc2 = nn.Linear(2048, num_classes)\n",
    "        self.dropout = nn.Dropout(0.8)\n",
    "\n",
    "    def forward(self, x):\n",
    "        x = self.conv1(x)\n",
    "        x = nn.functional.relu(self.conv2(x))\n",
    "        x = self.pool(x)\n",
    "        x = self.conv3(x)\n",
    "        x = nn.functional.relu(self.conv4(x))\n",
    "        x = self.pool(x)\n",
    "        x = x.view(-1, 256 * 7 * 7)  # Flatten the tensor\n",
    "        x = nn.functional.relu(self.fc1(x))\n",
    "        x = self.dropout(x)\n",
    "        x = self.fc2(x)\n",
    "        return x\n",
    "    \n",
    "model = SOPCNN().to(device)\n",
    "x = torch.randn(1, 1, 28, 28).to(device)\n",
    "y = model(x)\n",
    "\n",
    "model_history = torchlens.log_forward_pass(model, x, layers_to_save='all', vis_opt='unrolled', vis_fileformat='png', vis_outpath='graphs/SOPCNN.png', vis_direction='topdown')"
   ]
  },
  {
   "cell_type": "code",
   "execution_count": 20,
   "metadata": {},
   "outputs": [],
   "source": [
    "# early_stopping.py\n",
    "\n",
    "class EarlyStopping:\n",
    "    \"\"\"Early stops the training if validation loss doesn't improve after a given patience.\"\"\"\n",
    "    def __init__(self, patience=7, verbose=False, delta=0, path='checkpoint.pt', trace_func=print):\n",
    "        \"\"\"\n",
    "        Args:\n",
    "            patience (int): How long to wait after last time validation loss improved.\n",
    "                            Default: 7\n",
    "            verbose (bool): If True, prints a message for each validation loss improvement.\n",
    "                            Default: False\n",
    "            delta (float): Minimum change in the monitored quantity to qualify as an improvement.\n",
    "                            Default: 0\n",
    "            path (str): Path for the checkpoint to be saved to.\n",
    "                            Default: 'checkpoint.pt'\n",
    "            trace_func (function): trace print function.\n",
    "                            Default: print\n",
    "        \"\"\"\n",
    "        self.patience = patience\n",
    "        self.verbose = verbose\n",
    "        self.counter = 0\n",
    "        self.best_val_loss = None\n",
    "        self.early_stop = False\n",
    "        self.val_loss_min = np.inf\n",
    "        self.delta = delta\n",
    "        self.path = path\n",
    "        self.trace_func = trace_func\n",
    "\n",
    "    def __call__(self, val_loss, model):\n",
    "        # Check if validation loss is nan\n",
    "        if np.isnan(val_loss):\n",
    "            self.trace_func(\"Validation loss is NaN. Ignoring this epoch.\")\n",
    "            return\n",
    "\n",
    "        if self.best_val_loss is None:\n",
    "            self.best_val_loss = val_loss\n",
    "            self.save_checkpoint(val_loss, model)\n",
    "        elif val_loss < self.best_val_loss - self.delta:\n",
    "            # Significant improvement detected\n",
    "            self.best_val_loss = val_loss\n",
    "            self.save_checkpoint(val_loss, model)\n",
    "            self.counter = 0  # Reset counter since improvement occurred\n",
    "        else:\n",
    "            # No significant improvement\n",
    "            self.counter += 1\n",
    "            self.trace_func(f'EarlyStopping counter: {self.counter} out of {self.patience}')\n",
    "            if self.counter >= self.patience:\n",
    "                self.early_stop = True\n",
    "\n",
    "    def save_checkpoint(self, val_loss, model):\n",
    "        '''Saves model when validation loss decreases.'''\n",
    "        if self.verbose:\n",
    "            self.trace_func(f'Validation loss decreased ({self.val_loss_min:.6f} --> {val_loss:.6f}).  Saving model ...')\n",
    "        torch.save(model.state_dict(), self.path)\n",
    "        self.val_loss_min = val_loss"
   ]
  },
  {
   "cell_type": "code",
   "execution_count": 45,
   "metadata": {},
   "outputs": [
    {
     "name": "stderr",
     "output_type": "stream",
     "text": [
      "100%|██████████| 59/59 [00:18<00:00,  3.27it/s]\n"
     ]
    },
    {
     "name": "stdout",
     "output_type": "stream",
     "text": [
      "[   0/1000] train_loss: 0.05326 valid_loss: 0.12122\n",
      "Validation loss decreased (inf --> 0.121223).  Saving model ...\n"
     ]
    },
    {
     "name": "stderr",
     "output_type": "stream",
     "text": [
      "100%|██████████| 59/59 [00:17<00:00,  3.31it/s]\n"
     ]
    },
    {
     "name": "stdout",
     "output_type": "stream",
     "text": [
      "[   1/1000] train_loss: 0.06408 valid_loss: 0.09926\n",
      "Validation loss decreased (0.121223 --> 0.099260).  Saving model ...\n"
     ]
    },
    {
     "name": "stderr",
     "output_type": "stream",
     "text": [
      "100%|██████████| 59/59 [00:17<00:00,  3.28it/s]\n"
     ]
    },
    {
     "name": "stdout",
     "output_type": "stream",
     "text": [
      "[   2/1000] train_loss: 0.07253 valid_loss: 0.09547\n",
      "Validation loss decreased (0.099260 --> 0.095466).  Saving model ...\n"
     ]
    },
    {
     "name": "stderr",
     "output_type": "stream",
     "text": [
      "100%|██████████| 59/59 [00:18<00:00,  3.27it/s]\n"
     ]
    },
    {
     "name": "stdout",
     "output_type": "stream",
     "text": [
      "[   3/1000] train_loss: 0.07486 valid_loss: 0.09413\n",
      "Validation loss decreased (0.095466 --> 0.094127).  Saving model ...\n"
     ]
    },
    {
     "name": "stderr",
     "output_type": "stream",
     "text": [
      "100%|██████████| 59/59 [00:17<00:00,  3.29it/s]\n"
     ]
    },
    {
     "name": "stdout",
     "output_type": "stream",
     "text": [
      "[   4/1000] train_loss: 0.07266 valid_loss: 0.09689\n",
      "EarlyStopping counter: 1 out of 10\n"
     ]
    },
    {
     "name": "stderr",
     "output_type": "stream",
     "text": [
      "100%|██████████| 59/59 [00:17<00:00,  3.29it/s]\n"
     ]
    },
    {
     "name": "stdout",
     "output_type": "stream",
     "text": [
      "[   5/1000] train_loss: 0.07110 valid_loss: 0.08649\n",
      "Validation loss decreased (0.094127 --> 0.086491).  Saving model ...\n"
     ]
    },
    {
     "name": "stderr",
     "output_type": "stream",
     "text": [
      "100%|██████████| 59/59 [00:18<00:00,  3.25it/s]\n"
     ]
    },
    {
     "name": "stdout",
     "output_type": "stream",
     "text": [
      "[   6/1000] train_loss: 0.06555 valid_loss: 0.09776\n",
      "EarlyStopping counter: 1 out of 10\n"
     ]
    },
    {
     "name": "stderr",
     "output_type": "stream",
     "text": [
      "100%|██████████| 59/59 [00:17<00:00,  3.29it/s]\n"
     ]
    },
    {
     "name": "stdout",
     "output_type": "stream",
     "text": [
      "[   7/1000] train_loss: 0.06200 valid_loss: 0.09276\n",
      "EarlyStopping counter: 2 out of 10\n"
     ]
    },
    {
     "name": "stderr",
     "output_type": "stream",
     "text": [
      "100%|██████████| 59/59 [00:18<00:00,  3.27it/s]\n"
     ]
    },
    {
     "name": "stdout",
     "output_type": "stream",
     "text": [
      "[   8/1000] train_loss: 0.06023 valid_loss: 0.09037\n",
      "EarlyStopping counter: 3 out of 10\n"
     ]
    },
    {
     "name": "stderr",
     "output_type": "stream",
     "text": [
      "100%|██████████| 59/59 [00:18<00:00,  3.26it/s]\n"
     ]
    },
    {
     "name": "stdout",
     "output_type": "stream",
     "text": [
      "[   9/1000] train_loss: 0.05956 valid_loss: 0.08414\n",
      "Validation loss decreased (0.086491 --> 0.084139).  Saving model ...\n"
     ]
    },
    {
     "name": "stderr",
     "output_type": "stream",
     "text": [
      "100%|██████████| 59/59 [00:18<00:00,  3.26it/s]\n"
     ]
    },
    {
     "name": "stdout",
     "output_type": "stream",
     "text": [
      "[  10/1000] train_loss: 0.05611 valid_loss: 0.08821\n",
      "EarlyStopping counter: 1 out of 10\n"
     ]
    },
    {
     "name": "stderr",
     "output_type": "stream",
     "text": [
      "100%|██████████| 59/59 [00:18<00:00,  3.25it/s]\n"
     ]
    },
    {
     "name": "stdout",
     "output_type": "stream",
     "text": [
      "[  11/1000] train_loss: 0.05060 valid_loss: 0.08758\n",
      "EarlyStopping counter: 2 out of 10\n"
     ]
    },
    {
     "name": "stderr",
     "output_type": "stream",
     "text": [
      "100%|██████████| 59/59 [00:18<00:00,  3.26it/s]\n"
     ]
    },
    {
     "name": "stdout",
     "output_type": "stream",
     "text": [
      "[  12/1000] train_loss: 0.04755 valid_loss: 0.09117\n",
      "EarlyStopping counter: 3 out of 10\n"
     ]
    },
    {
     "name": "stderr",
     "output_type": "stream",
     "text": [
      "100%|██████████| 59/59 [00:18<00:00,  3.22it/s]\n"
     ]
    },
    {
     "name": "stdout",
     "output_type": "stream",
     "text": [
      "[  13/1000] train_loss: 0.04608 valid_loss: 0.08454\n",
      "EarlyStopping counter: 4 out of 10\n"
     ]
    },
    {
     "name": "stderr",
     "output_type": "stream",
     "text": [
      "100%|██████████| 59/59 [00:18<00:00,  3.26it/s]\n"
     ]
    },
    {
     "name": "stdout",
     "output_type": "stream",
     "text": [
      "[  14/1000] train_loss: 0.04433 valid_loss: 0.08126\n",
      "Validation loss decreased (0.084139 --> 0.081264).  Saving model ...\n"
     ]
    },
    {
     "name": "stderr",
     "output_type": "stream",
     "text": [
      "100%|██████████| 59/59 [00:18<00:00,  3.26it/s]\n"
     ]
    },
    {
     "name": "stdout",
     "output_type": "stream",
     "text": [
      "[  15/1000] train_loss: 0.04480 valid_loss: 0.09661\n",
      "EarlyStopping counter: 1 out of 10\n"
     ]
    },
    {
     "name": "stderr",
     "output_type": "stream",
     "text": [
      "100%|██████████| 59/59 [00:18<00:00,  3.27it/s]\n"
     ]
    },
    {
     "name": "stdout",
     "output_type": "stream",
     "text": [
      "[  16/1000] train_loss: 0.04412 valid_loss: 0.07751\n",
      "Validation loss decreased (0.081264 --> 0.077510).  Saving model ...\n"
     ]
    },
    {
     "name": "stderr",
     "output_type": "stream",
     "text": [
      "100%|██████████| 59/59 [00:18<00:00,  3.18it/s]\n"
     ]
    },
    {
     "name": "stdout",
     "output_type": "stream",
     "text": [
      "[  17/1000] train_loss: 0.03999 valid_loss: 0.08244\n",
      "EarlyStopping counter: 1 out of 10\n"
     ]
    },
    {
     "name": "stderr",
     "output_type": "stream",
     "text": [
      "100%|██████████| 59/59 [00:18<00:00,  3.23it/s]\n"
     ]
    },
    {
     "name": "stdout",
     "output_type": "stream",
     "text": [
      "[  18/1000] train_loss: 0.03923 valid_loss: 0.08041\n",
      "EarlyStopping counter: 2 out of 10\n"
     ]
    },
    {
     "name": "stderr",
     "output_type": "stream",
     "text": [
      "100%|██████████| 59/59 [00:18<00:00,  3.21it/s]\n"
     ]
    },
    {
     "name": "stdout",
     "output_type": "stream",
     "text": [
      "[  19/1000] train_loss: 0.03519 valid_loss: 0.08145\n",
      "EarlyStopping counter: 3 out of 10\n"
     ]
    },
    {
     "name": "stderr",
     "output_type": "stream",
     "text": [
      "100%|██████████| 59/59 [00:18<00:00,  3.22it/s]\n"
     ]
    },
    {
     "name": "stdout",
     "output_type": "stream",
     "text": [
      "[  20/1000] train_loss: 0.03533 valid_loss: 0.07733\n",
      "Validation loss decreased (0.077510 --> 0.077330).  Saving model ...\n"
     ]
    },
    {
     "name": "stderr",
     "output_type": "stream",
     "text": [
      "100%|██████████| 59/59 [00:18<00:00,  3.23it/s]\n"
     ]
    },
    {
     "name": "stdout",
     "output_type": "stream",
     "text": [
      "[  21/1000] train_loss: 0.03240 valid_loss: 0.08631\n",
      "EarlyStopping counter: 1 out of 10\n"
     ]
    },
    {
     "name": "stderr",
     "output_type": "stream",
     "text": [
      "100%|██████████| 59/59 [00:18<00:00,  3.19it/s]\n"
     ]
    },
    {
     "name": "stdout",
     "output_type": "stream",
     "text": [
      "[  22/1000] train_loss: 0.03387 valid_loss: 0.08528\n",
      "EarlyStopping counter: 2 out of 10\n"
     ]
    },
    {
     "name": "stderr",
     "output_type": "stream",
     "text": [
      "100%|██████████| 59/59 [00:18<00:00,  3.24it/s]\n"
     ]
    },
    {
     "name": "stdout",
     "output_type": "stream",
     "text": [
      "[  23/1000] train_loss: 0.02889 valid_loss: 0.08599\n",
      "EarlyStopping counter: 3 out of 10\n"
     ]
    },
    {
     "name": "stderr",
     "output_type": "stream",
     "text": [
      "100%|██████████| 59/59 [00:18<00:00,  3.26it/s]\n"
     ]
    },
    {
     "name": "stdout",
     "output_type": "stream",
     "text": [
      "[  24/1000] train_loss: 0.03069 valid_loss: 0.08273\n",
      "EarlyStopping counter: 4 out of 10\n"
     ]
    },
    {
     "name": "stderr",
     "output_type": "stream",
     "text": [
      "100%|██████████| 59/59 [00:17<00:00,  3.31it/s]\n"
     ]
    },
    {
     "name": "stdout",
     "output_type": "stream",
     "text": [
      "[  25/1000] train_loss: 0.03190 valid_loss: 0.08584\n",
      "EarlyStopping counter: 5 out of 10\n"
     ]
    },
    {
     "name": "stderr",
     "output_type": "stream",
     "text": [
      "100%|██████████| 59/59 [00:17<00:00,  3.31it/s]\n"
     ]
    },
    {
     "name": "stdout",
     "output_type": "stream",
     "text": [
      "[  26/1000] train_loss: 0.02939 valid_loss: 0.08244\n",
      "EarlyStopping counter: 6 out of 10\n"
     ]
    },
    {
     "name": "stderr",
     "output_type": "stream",
     "text": [
      "100%|██████████| 59/59 [00:17<00:00,  3.29it/s]\n"
     ]
    },
    {
     "name": "stdout",
     "output_type": "stream",
     "text": [
      "[  27/1000] train_loss: 0.02743 valid_loss: 0.07642\n",
      "Validation loss decreased (0.077330 --> 0.076418).  Saving model ...\n"
     ]
    },
    {
     "name": "stderr",
     "output_type": "stream",
     "text": [
      "100%|██████████| 59/59 [00:18<00:00,  3.18it/s]\n"
     ]
    },
    {
     "name": "stdout",
     "output_type": "stream",
     "text": [
      "[  28/1000] train_loss: 0.02730 valid_loss: 0.08064\n",
      "EarlyStopping counter: 1 out of 10\n"
     ]
    },
    {
     "name": "stderr",
     "output_type": "stream",
     "text": [
      "100%|██████████| 59/59 [00:18<00:00,  3.26it/s]\n"
     ]
    },
    {
     "name": "stdout",
     "output_type": "stream",
     "text": [
      "[  29/1000] train_loss: 0.02548 valid_loss: 0.07819\n",
      "EarlyStopping counter: 2 out of 10\n"
     ]
    },
    {
     "name": "stderr",
     "output_type": "stream",
     "text": [
      "100%|██████████| 59/59 [00:18<00:00,  3.26it/s]\n"
     ]
    },
    {
     "name": "stdout",
     "output_type": "stream",
     "text": [
      "[  30/1000] train_loss: 0.02608 valid_loss: 0.07992\n",
      "EarlyStopping counter: 3 out of 10\n"
     ]
    },
    {
     "name": "stderr",
     "output_type": "stream",
     "text": [
      "100%|██████████| 59/59 [00:18<00:00,  3.28it/s]\n"
     ]
    },
    {
     "name": "stdout",
     "output_type": "stream",
     "text": [
      "[  31/1000] train_loss: 0.02521 valid_loss: 0.08061\n",
      "EarlyStopping counter: 4 out of 10\n"
     ]
    },
    {
     "name": "stderr",
     "output_type": "stream",
     "text": [
      "100%|██████████| 59/59 [00:18<00:00,  3.27it/s]\n"
     ]
    },
    {
     "name": "stdout",
     "output_type": "stream",
     "text": [
      "[  32/1000] train_loss: 0.02460 valid_loss: 0.08520\n",
      "EarlyStopping counter: 5 out of 10\n"
     ]
    },
    {
     "name": "stderr",
     "output_type": "stream",
     "text": [
      "100%|██████████| 59/59 [00:17<00:00,  3.31it/s]\n"
     ]
    },
    {
     "name": "stdout",
     "output_type": "stream",
     "text": [
      "[  33/1000] train_loss: 0.02374 valid_loss: 0.08112\n",
      "EarlyStopping counter: 6 out of 10\n"
     ]
    },
    {
     "name": "stderr",
     "output_type": "stream",
     "text": [
      "100%|██████████| 59/59 [00:17<00:00,  3.32it/s]\n"
     ]
    },
    {
     "name": "stdout",
     "output_type": "stream",
     "text": [
      "[  34/1000] train_loss: 0.02392 valid_loss: 0.08612\n",
      "EarlyStopping counter: 7 out of 10\n"
     ]
    },
    {
     "name": "stderr",
     "output_type": "stream",
     "text": [
      "100%|██████████| 59/59 [00:17<00:00,  3.29it/s]\n"
     ]
    },
    {
     "name": "stdout",
     "output_type": "stream",
     "text": [
      "[  35/1000] train_loss: 0.02194 valid_loss: 0.08388\n",
      "EarlyStopping counter: 8 out of 10\n"
     ]
    },
    {
     "name": "stderr",
     "output_type": "stream",
     "text": [
      "100%|██████████| 59/59 [00:18<00:00,  3.23it/s]\n"
     ]
    },
    {
     "name": "stdout",
     "output_type": "stream",
     "text": [
      "[  36/1000] train_loss: 0.02333 valid_loss: 0.08036\n",
      "EarlyStopping counter: 9 out of 10\n"
     ]
    },
    {
     "name": "stderr",
     "output_type": "stream",
     "text": [
      "100%|██████████| 59/59 [00:18<00:00,  3.21it/s]\n"
     ]
    },
    {
     "name": "stdout",
     "output_type": "stream",
     "text": [
      "[  37/1000] train_loss: 0.02258 valid_loss: 0.08392\n",
      "EarlyStopping counter: 10 out of 10\n",
      "Early stopping!\n"
     ]
    }
   ],
   "source": [
    "# Loss and optimizer\n",
    "criterion = nn.CrossEntropyLoss()\n",
    "optimizer = optim.RAdam(model.parameters(), lr=learning_rate, decoupled_weight_decay=True)\n",
    "scheduler = optim.lr_scheduler.ExponentialLR(optimizer, gamma=0.9)\n",
    "early_stopping = EarlyStopping(patience=10, verbose=True, path='sop_checkpoint.pt')\n",
    "\n",
    "train_losses = []\n",
    "valid_losses = []\n",
    "avg_train_losses = []\n",
    "avg_valid_losses = []\n",
    "    \n",
    "# Training loop\n",
    "for epoch in range(num_epochs):\n",
    "    \n",
    "    # Train the model\n",
    "    model.train()\n",
    "    for i, (images, labels) in enumerate(tqdm(train_loader)):\n",
    "        images, labels = images.to(device), labels.to(device)\n",
    "\n",
    "        # Forward pass\n",
    "        outputs = model(images)\n",
    "        loss = criterion(outputs, labels)\n",
    "\n",
    "        # Backward pass and optimization\n",
    "        optimizer.zero_grad()\n",
    "        loss.backward()\n",
    "        optimizer.step()\n",
    "\n",
    "        #capture loss\n",
    "        train_losses.append(loss.item())\n",
    "\n",
    "    # Validate the model\n",
    "    model.eval()\n",
    "    with torch.no_grad():\n",
    "        for test_images, test_labels in test_loader:\n",
    "            test_images, test_labels = test_images.to(device), test_labels.to(device)\n",
    "            output = model(test_images)\n",
    "            loss = criterion(output, test_labels)\n",
    "            valid_losses.append(loss.item())\n",
    "    \n",
    "    train_loss = np.average(train_losses)\n",
    "    valid_loss = np.average(valid_losses)\n",
    "    avg_train_losses.append(train_loss)\n",
    "    avg_valid_losses.append(valid_loss)\n",
    "\n",
    "    # print training/validation statistics\n",
    "    epoch_len = len(str(num_epochs))\n",
    "        \n",
    "    print_msg = (f'[{epoch:>{epoch_len}}/{num_epochs:>{epoch_len}}] ' +\n",
    "                    f'train_loss: {train_loss:.5f} ' +\n",
    "                    f'valid_loss: {valid_loss:.5f}')\n",
    "    \n",
    "    print(print_msg)\n",
    "    \n",
    "    # clear lists to track next epoch\n",
    "    train_losses = []\n",
    "    valid_losses = []\n",
    "    \n",
    "    # early_stopping needs the validation loss to check if it has decresed, \n",
    "    # and if it has, it will make a checkpoint of the current model\n",
    "    early_stopping(valid_loss, model)\n",
    "    \n",
    "    if early_stopping.early_stop:\n",
    "        print(\"Early stopping!\")\n",
    "        break\n",
    "\n",
    "    scheduler.step()"
   ]
  },
  {
   "cell_type": "code",
   "execution_count": 65,
   "metadata": {},
   "outputs": [
    {
     "data": {
      "image/png": "[encoded data removed]",
      "text/plain": [
       "<Figure size 640x480 with 2 Axes>"
      ]
     },
     "metadata": {},
     "output_type": "display_data"
    },
    {
     "name": "stdout",
     "output_type": "stream",
     "text": [
      "Model Architecture:\n",
      "SOPCNN(\n",
      "  (conv1): Conv2d(1, 32, kernel_size=(3, 3), stride=(1, 1), padding=(1, 1))\n",
      "  (conv2): Conv2d(32, 64, kernel_size=(3, 3), stride=(1, 1), padding=(1, 1))\n",
      "  (conv3): Conv2d(64, 128, kernel_size=(3, 3), stride=(1, 1), padding=(1, 1))\n",
      "  (conv4): Conv2d(128, 256, kernel_size=(3, 3), stride=(1, 1), padding=(1, 1))\n",
      "  (pool): MaxPool2d(kernel_size=2, stride=2, padding=0, dilation=1, ceil_mode=False)\n",
      "  (fc1): Linear(in_features=12544, out_features=2048, bias=True)\n",
      "  (fc2): Linear(in_features=2048, out_features=10, bias=True)\n",
      "  (dropout): Dropout(p=0.8, inplace=False)\n",
      ")\n",
      "\n",
      "Model Evaluation:\n",
      "Accuracy: 0.9858\n",
      "\n",
      "Hyperparameters:\n",
      "Learning Rate: 0.004\n",
      "Batch Size: 1024\n",
      "Number of Epochs: 1000\n"
     ]
    }
   ],
   "source": [
    "# Evaluation and confusion matrix\n",
    "model.load_state_dict(torch.load('sop_checkpoint.pt', weights_only=True))\n",
    "\n",
    "model.eval()\n",
    "y_pred = []\n",
    "y_true = []\n",
    "\n",
    "with torch.no_grad():\n",
    "    for images, labels in test_loader:\n",
    "        images = images.to(device)\n",
    "        labels = labels.to(device)\n",
    "        outputs = model(images)\n",
    "        _, predicted = torch.max(outputs.data, 1)\n",
    "        y_true.extend(labels.cpu().numpy())\n",
    "        y_pred.extend(predicted.cpu().numpy())\n",
    "\n",
    "# Confusion matrix\n",
    "cm = confusion_matrix(y_true, y_pred)\n",
    "cm_display = ConfusionMatrixDisplay(confusion_matrix=cm, display_labels=np.arange(10))\n",
    "cm_display.plot()\n",
    "plt.title(\"Confusion Matrix (SOPCNN)\")\n",
    "plt.show()\n",
    "\n",
    "# Model summary of accuracy and hyperparameters\n",
    "print(\"Model Architecture:\")\n",
    "print(model)\n",
    "print(\"\\nModel Evaluation:\")\n",
    "print(f\"Accuracy: {np.mean(np.array(y_true) == np.array(y_pred))}\")\n",
    "print(\"\\nHyperparameters:\")\n",
    "print(f\"Learning Rate: {learning_rate}\")\n",
    "print(f\"Batch Size: {batch_size}\")\n",
    "print(f\"Number of Epochs: {num_epochs}\")\n"
   ]
  },
  {
   "cell_type": "code",
   "execution_count": 68,
   "metadata": {},
   "outputs": [
    {
     "data": {
      "image/png": "[encoded data removed]",
      "text/plain": [
       "<Figure size 640x480 with 1 Axes>"
      ]
     },
     "metadata": {},
     "output_type": "display_data"
    }
   ],
   "source": [
    "# accuracy overtime plot\n",
    "plt.plot(avg_train_losses, label='Average Training loss')\n",
    "plt.plot(avg_valid_losses, label='Average Validation loss')\n",
    "plt.title('Average Training and Validation Loss (SOPCNN)')\n",
    "plt.xlabel('Epochs')\n",
    "plt.ylabel('Loss')\n",
    "plt.legend(frameon=False)\n",
    "\n",
    "# plot the point of best accuracy\n",
    "best_val_loss_epoch = np.argmin(avg_valid_losses)\n",
    "plt.scatter(best_val_loss_epoch, early_stopping.best_val_loss, color='red')\n",
    "plt.text(best_val_loss_epoch, early_stopping.best_val_loss, f'Best Validation Loss: {early_stopping.best_val_loss:.5f}')\n",
    "\n",
    "plt.show()"
   ]
  },
  {
   "cell_type": "code",
   "execution_count": null,
   "metadata": {},
   "outputs": [],
   "source": []
  }
 ],
 "metadata": {
  "kernelspec": {
   "display_name": "eel6814-nn-bS2_zX9a-py3.12",
   "language": "python",
   "name": "python3"
  },
  "language_info": {
   "codemirror_mode": {
    "name": "ipython",
    "version": 3
   },
   "file_extension": ".py",
   "mimetype": "text/x-python",
   "name": "python",
   "nbconvert_exporter": "python",
   "pygments_lexer": "ipython3",
   "version": "3.12.7"
  }
 },
 "nbformat": 4,
 "nbformat_minor": 2
}
