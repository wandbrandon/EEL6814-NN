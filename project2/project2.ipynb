{
 "cells": [
  {
   "cell_type": "markdown",
   "metadata": {},
   "source": [
    "# Project 1\n",
    "## Imports, Dataset, Models"
   ]
  },
  {
   "cell_type": "code",
   "execution_count": 1,
   "metadata": {},
   "outputs": [
    {
     "data": {
      "text/plain": [
       "'mps'"
      ]
     },
     "execution_count": 1,
     "metadata": {},
     "output_type": "execute_result"
    }
   ],
   "source": [
    "import torch\n",
    "import torch.nn as nn\n",
    "import torch.optim as optim\n",
    "import torch.nn.functional as F\n",
    "\n",
    "import torchvision\n",
    "from torchvision.transforms import v2\n",
    "import matplotlib.pyplot as plt\n",
    "import numpy as np\n",
    "from tqdm import tqdm\n",
    "from sklearn.metrics import confusion_matrix, ConfusionMatrixDisplay\n",
    "\n",
    "import time\n",
    "\n",
    "# Device configuration\n",
    "# I am using a Mac M3 chip, so I can't use CUDA, but if you are on nvidia, change this to CUDA\n",
    "device = torch.device(\"mps\")\n",
    "device.type\n"
   ]
  },
  {
   "cell_type": "markdown",
   "metadata": {},
   "source": [
    "## Load the Dataset"
   ]
  },
  {
   "cell_type": "code",
   "execution_count": 71,
   "metadata": {},
   "outputs": [
    {
     "data": {
      "image/png": "[encoded data removed]",
      "text/plain": [
       "<Figure size 640x480 with 6 Axes>"
      ]
     },
     "metadata": {},
     "output_type": "display_data"
    }
   ],
   "source": [
    "batch_size = 512\n",
    "\n",
    "# KMNIST dataset\n",
    "transform = v2.Compose(\n",
    "    [\n",
    "        v2.ToImage(),\n",
    "        v2.ToDtype(torch.float32, scale=True),\n",
    "        v2.Lambda(lambda x: x.flatten()),\n",
    "    ]\n",
    ").to(device)\n",
    "\n",
    "transform_test = v2.Compose(\n",
    "    [\n",
    "        v2.ToImage(),\n",
    "        v2.ToDtype(torch.float32, scale=True),\n",
    "        v2.Lambda(lambda x: x.flatten()),\n",
    "    ]\n",
    ").to(device)\n",
    "\n",
    "\n",
    "train_dataset = torchvision.datasets.KMNIST(\n",
    "    root=\"./data\", train=True, download=True, transform=transform\n",
    ")\n",
    "test_dataset = torchvision.datasets.KMNIST(\n",
    "    root=\"./data\", train=False, download=True, transform=transform_test\n",
    ")\n",
    "\n",
    "train_loader = torch.utils.data.DataLoader(\n",
    "    dataset=train_dataset,\n",
    "    batch_size=batch_size,\n",
    "    shuffle=True,\n",
    ")\n",
    "\n",
    "test_loader = torch.utils.data.DataLoader(\n",
    "    dataset=test_dataset,\n",
    "    batch_size=batch_size,\n",
    "    shuffle=True,\n",
    ")\n",
    "\n",
    "# visualize some of the data\n",
    "example_data, example_targets = next(iter(train_loader))\n",
    "for i in range(6):\n",
    "    plt.subplot(2, 3, i + 1)\n",
    "    plt.title(example_targets[i].item())\n",
    "    plt.axis(\"off\")\n",
    "    plt.imshow(example_data[i].reshape(28, 28), cmap=\"gray\")"
   ]
  },
  {
   "cell_type": "markdown",
   "metadata": {},
   "source": [
    "## Early Stopping"
   ]
  },
  {
   "cell_type": "code",
   "execution_count": 72,
   "metadata": {},
   "outputs": [],
   "source": [
    "class EarlyStopping:\n",
    "    \"\"\"Early stops the training if validation loss doesn't improve after a given patience.\"\"\"\n",
    "\n",
    "    def __init__(\n",
    "        self, patience=7, verbose=False, delta=0, path=\"checkpoint.pt\", trace_func=print\n",
    "    ):\n",
    "        \"\"\"\n",
    "        Args:\n",
    "            patience (int): How long to wait after last time validation loss improved.\n",
    "                            Default: 7\n",
    "            verbose (bool): If True, prints a message for each validation loss improvement.\n",
    "                            Default: False\n",
    "            delta (float): Minimum change in the monitored quantity to qualify as an improvement.\n",
    "                            Default: 0\n",
    "            path (str): Path for the checkpoint to be saved to.\n",
    "                            Default: 'checkpoint.pt'\n",
    "            trace_func (function): trace print function.\n",
    "                            Default: print\n",
    "        \"\"\"\n",
    "        self.patience = patience\n",
    "        self.verbose = verbose\n",
    "        self.counter = 0\n",
    "        self.best_val_loss = None\n",
    "        self.early_stop = False\n",
    "        self.val_loss_min = np.inf\n",
    "        self.delta = delta\n",
    "        self.path = path\n",
    "        self.trace_func = trace_func\n",
    "\n",
    "    def __call__(self, val_loss, model):\n",
    "        # Check if validation loss is nan\n",
    "        if np.isnan(val_loss):\n",
    "            self.trace_func(\"Validation loss is NaN. Ignoring this epoch.\")\n",
    "            return\n",
    "\n",
    "        if self.best_val_loss is None:\n",
    "            self.best_val_loss = val_loss\n",
    "            self.save_checkpoint(val_loss, model)\n",
    "        elif val_loss < self.best_val_loss - self.delta:\n",
    "            # Significant improvement detected\n",
    "            self.best_val_loss = val_loss\n",
    "            self.save_checkpoint(val_loss, model)\n",
    "            self.counter = 0  # Reset counter since improvement occurred\n",
    "        else:\n",
    "            # No significant improvement\n",
    "            self.counter += 1\n",
    "            if self.verbose:\n",
    "                self.trace_func(\n",
    "                    f\"EarlyStopping counter: {self.counter} out of {self.patience}\"\n",
    "                )\n",
    "            if self.counter >= self.patience:\n",
    "                self.early_stop = True\n",
    "\n",
    "    def save_checkpoint(self, val_loss, model):\n",
    "        \"\"\"Saves model when validation loss decreases.\"\"\"\n",
    "        if self.verbose:\n",
    "            self.trace_func(\n",
    "                f\"Validation loss decreased ({self.val_loss_min:.6f} --> {val_loss:.6f}).  Saving model ...\"\n",
    "            )\n",
    "        torch.save(model.state_dict(), self.path)\n",
    "        self.val_loss_min = val_loss"
   ]
  },
  {
   "cell_type": "markdown",
   "metadata": {},
   "source": [
    "## Stacked Autoencoder Class"
   ]
  },
  {
   "cell_type": "code",
   "execution_count": 73,
   "metadata": {},
   "outputs": [],
   "source": [
    "class StackedAutoencoder(nn.Module):\n",
    "    def __init__(self, bottleneck_size):\n",
    "        super(StackedAutoencoder, self).__init__()\n",
    "        self.bottleneck_size = bottleneck_size\n",
    "        self.encoder = nn.Sequential(\n",
    "            nn.Linear(784, 800),\n",
    "            nn.ReLU(),\n",
    "            nn.Linear(800, 200),\n",
    "            nn.ReLU(),\n",
    "            nn.Linear(200, self.bottleneck_size),\n",
    "        )\n",
    "        self.decoder = nn.Sequential(\n",
    "            nn.Linear(self.bottleneck_size, 200),\n",
    "            nn.ReLU(),\n",
    "            nn.Linear(200, 800),\n",
    "            nn.ReLU(),\n",
    "            nn.Linear(800, 784),\n",
    "            nn.Sigmoid(),\n",
    "        )\n",
    "\n",
    "    def forward(self, x):\n",
    "        bottleneck = self.encoder(x)\n",
    "        reconstruction = self.decoder(bottleneck)\n",
    "        return reconstruction, bottleneck\n",
    "\n",
    "    def encode(self, x):\n",
    "        return self.encoder(x)\n",
    "\n",
    "    def decode(self, x):\n",
    "        return self.decoder(x)\n",
    "\n",
    "    def fit(\n",
    "        self,\n",
    "        train_loader,\n",
    "        optimizer,\n",
    "        criterion,\n",
    "        num_epochs,\n",
    "        early_stopping=None,\n",
    "        test_loader=None,\n",
    "        with_penalty=False,\n",
    "        verbose=True,\n",
    "    ):\n",
    "        start_time = time.time()\n",
    "        for epoch in tqdm(range(num_epochs), disable=verbose):\n",
    "            self.train()\n",
    "            running_loss = 0.0\n",
    "            running_test_loss = 0.0\n",
    "            \n",
    "            with tqdm(train_loader, unit=\"batch\", disable=not verbose) as tepoch:\n",
    "                if verbose:\n",
    "                    tepoch.set_description(f\"Epoch {epoch + 1}/{num_epochs}\")\n",
    "                for images, labels in tepoch:\n",
    "                    images = images.to(next(self.parameters()).device)\n",
    "                    labels = labels.to(next(self.parameters()).device)\n",
    "                    \n",
    "                    optimizer.zero_grad()\n",
    "                    reconstruction, bottleneck = self(images)\n",
    "                    \n",
    "                    loss = (\n",
    "                        criterion(reconstruction, images, bottleneck, labels)\n",
    "                        if with_penalty\n",
    "                        else criterion(reconstruction, images)\n",
    "                    )\n",
    "\n",
    "                    running_loss += loss.item()\n",
    "                    loss.backward()\n",
    "                    optimizer.step()\n",
    "\n",
    "                    batch_loss = running_loss / len(train_loader)\n",
    "                    if verbose:\n",
    "                        tepoch.set_postfix(loss=batch_loss)\n",
    "\n",
    "                if early_stopping:\n",
    "                    self.eval()\n",
    "                    with torch.no_grad():\n",
    "                        if test_loader is None:\n",
    "                            raise ValueError(\"test_loader is required for early stopping\")\n",
    "                        for test_images, test_labels in test_loader:\n",
    "                            test_images = test_images.to(next(self.parameters()).device)\n",
    "                            test_labels = test_labels.to(next(self.parameters()).device)\n",
    "                            reconstruction, bottleneck = self(test_images)\n",
    "                            loss = (\n",
    "                                criterion(reconstruction, test_images, bottleneck, test_labels)\n",
    "                                if with_penalty\n",
    "                                else criterion(reconstruction, test_images)\n",
    "                            )\n",
    "                            running_test_loss += loss.item()\n",
    "\n",
    "                        test_loss = running_test_loss / len(test_loader)\n",
    "                        early_stopping(test_loss, self)\n",
    "                        if early_stopping.early_stop:\n",
    "                            if verbose:\n",
    "                                print(\"Early stopping!\")\n",
    "                            break\n",
    "        end_time = time.time()\n",
    "        elapsed_time = end_time - start_time\n",
    "        return test_loss, elapsed_time\n",
    "    \n",
    "    def evaluate_classify_10(self, test_loader):\n",
    "        self.eval()\n",
    "        with torch.no_grad():\n",
    "            for images, labels in test_loader:\n",
    "                images = images.to(device)\n",
    "                reconstruction, bottleneck = self(images)\n",
    "                # print the entire bottleneck max indices\n",
    "                print(bottleneck[0].argmax())\n",
    "\n",
    "                # Move tensors to CPU and convert to numpy arrays\n",
    "                images = images.cpu().numpy().reshape(-1, 28, 28)\n",
    "\n",
    "                # print the max index of the bottleneck\n",
    "                reconstruction = reconstruction.cpu().numpy().reshape(-1, 28, 28)\n",
    "\n",
    "                # Plot original and reconstructed images\n",
    "                fig, axes = plt.subplots(2, 10, figsize=(15, 4))\n",
    "                for i in range(10):\n",
    "                    # Original images\n",
    "                    axes[0, i].imshow(images[i].reshape(28, 28), cmap=\"gray\")\n",
    "                    axes[0, i].axis(\"off\")\n",
    "                    axes[0, i].set_title(f\"orig: {labels[i]}\")\n",
    "\n",
    "                    # Reconstructed images\n",
    "                    axes[1, i].imshow(reconstruction[i].reshape(28, 28), cmap=\"gray\")\n",
    "                    axes[1, i].axis(\"off\")\n",
    "                    axes[1, i].set_title(f\"sae: {bottleneck.argmax(dim=1)[i]}\")\n",
    "\n",
    "                plt.show()\n",
    "                break  # Only visualize the first batch\n",
    "\n",
    "    def evaluate_classify(self, test_loader, verbose=False):\n",
    "        self.eval()\n",
    "        y_pred = []\n",
    "        y_true = []\n",
    "\n",
    "        self.eval()\n",
    "        with torch.no_grad():\n",
    "            for images, labels in test_loader:\n",
    "                images = images.to(device)\n",
    "                _, bottleneck = self(images)\n",
    "                bottleneck_labels = bottleneck.argmax(dim=1)\n",
    "                y_true.extend(labels.cpu().numpy())\n",
    "                y_pred.extend(bottleneck_labels.cpu().numpy())\n",
    "        accuracy = np.mean(np.array(y_true) == np.array(y_pred))\n",
    "\n",
    "        if verbose:\n",
    "            # Confusion matrix\n",
    "            cm = confusion_matrix(y_true, y_pred)\n",
    "            cm_display = ConfusionMatrixDisplay(\n",
    "                confusion_matrix=cm, display_labels=test_dataset.classes\n",
    "            )\n",
    "            cm_display.plot()\n",
    "            plt.title(f\"Confusion Matrix ({self.__class__.__name__})\")\n",
    "            plt.show()\n",
    "\n",
    "\n",
    "            # Model summary of accuracy and hyperparameters\n",
    "            print(\"Model Architecture:\")\n",
    "            print(self)\n",
    "            print(\"\\nModel Evaluation:\")\n",
    "            print(f\"Accuracy: {accuracy:.2f}\")\n",
    "        "
   ]
  },
  {
   "cell_type": "code",
   "execution_count": 5,
   "metadata": {},
   "outputs": [
    {
     "name": "stdout",
     "output_type": "stream",
     "text": [
      "[0.001]\n",
      "[10]\n",
      "[1e-05]\n",
      "Learning Rate: 0.001, Bottleneck Size: 10, Weight Decay: 1e-05\n"
     ]
    },
    {
     "name": "stderr",
     "output_type": "stream",
     "text": [
      " 51%|█████     | 51/100 [03:22<03:14,  3.97s/it]"
     ]
    },
    {
     "name": "stdout",
     "output_type": "stream",
     "text": [
      "Test Loss: 0.046057, Elapsed Time: 202.39s\n"
     ]
    },
    {
     "name": "stderr",
     "output_type": "stream",
     "text": [
      "\n"
     ]
    }
   ],
   "source": [
    "# hyperparams\n",
    "sae_num_epochs = 100\n",
    "sae_learning_rates = [0.001]\n",
    "sae_bottleneck_sizes = [10]\n",
    "sae_weight_decays = [1e-5]\n",
    "verbose = False\n",
    "\n",
    "print(sae_learning_rates)\n",
    "print(sae_bottleneck_sizes)\n",
    "print(sae_weight_decays)\n",
    "\n",
    "# train the grid search, time the training and smallest validation loss, and the best hyperparameters\n",
    "tracking = []\n",
    "\n",
    "for sae_learning_rate in sae_learning_rates:\n",
    "    for bottleneck_size in sae_bottleneck_sizes:\n",
    "        for weight_decay in sae_weight_decays:\n",
    "            print(\n",
    "                f\"Learning Rate: {sae_learning_rate}, Bottleneck Size: {bottleneck_size}, Weight Decay: {weight_decay}\"\n",
    "            )\n",
    "            sae_model = StackedAutoencoder(bottleneck_size).to(device)\n",
    "            sae_criterion = nn.MSELoss()\n",
    "            path_model = f\"models/sae_checkpoint_{sae_learning_rate}_{bottleneck_size}_{weight_decay}.pt\"\n",
    "            sae_early_stopping = EarlyStopping(\n",
    "                patience=5, verbose=verbose, path=path_model\n",
    "            )\n",
    "\n",
    "            sae_optimizer = optim.RAdam(\n",
    "                sae_model.parameters(),\n",
    "                lr=sae_learning_rate,\n",
    "                weight_decay=weight_decay,\n",
    "            )\n",
    "\n",
    "            test_loss, elapsed_time = sae_model.fit(\n",
    "                train_loader,\n",
    "                sae_optimizer,\n",
    "                sae_criterion,\n",
    "                sae_num_epochs,\n",
    "                early_stopping=sae_early_stopping,\n",
    "                test_loader=test_loader,\n",
    "                verbose=verbose,\n",
    "            )\n",
    "\n",
    "            tracking.append(\n",
    "                {\n",
    "                    \"learning_rate\": sae_learning_rate,\n",
    "                    \"bottleneck_size\": bottleneck_size,\n",
    "                    \"weight_decay\": weight_decay,\n",
    "                    \"test_loss\": test_loss,\n",
    "                    \"elapsed_time\": elapsed_time,\n",
    "                }\n",
    "            )\n",
    "\n",
    "            print(f\"Test Loss: {test_loss:.6f}, Elapsed Time: {elapsed_time:.2f}s\")"
   ]
  },
  {
   "cell_type": "code",
   "execution_count": 6,
   "metadata": {},
   "outputs": [
    {
     "name": "stdout",
     "output_type": "stream",
     "text": [
      "Best Score: 0.046057, Best Score Index: 0\n",
      "Best Elapsed Time: 202.39s, Best Elapsed Time Index: 0\n"
     ]
    }
   ],
   "source": [
    "best_score_idx = np.argmin([x[\"test_loss\"] for x in tracking])\n",
    "best_score = tracking[best_score_idx][\"test_loss\"]\n",
    "best_elapsed_time_idx = np.argmin([x[\"elapsed_time\"] for x in tracking])\n",
    "best_elapsed_time = tracking[best_elapsed_time_idx][\"elapsed_time\"]\n",
    "\n",
    "print(f\"Best Score: {best_score:.6f}, Best Score Index: {best_score_idx}\")\n",
    "print(f\"Best Elapsed Time: {best_elapsed_time:.2f}s, Best Elapsed Time Index: {best_elapsed_time_idx}\")"
   ]
  },
  {
   "cell_type": "code",
   "execution_count": 9,
   "metadata": {},
   "outputs": [
    {
     "name": "stdout",
     "output_type": "stream",
     "text": [
      "tensor(5, device='mps:0')\n"
     ]
    },
    {
     "data": {
      "image/png": "[encoded data removed]",
      "text/plain": [
       "<Figure size 1500x400 with 20 Axes>"
      ]
     },
     "metadata": {},
     "output_type": "display_data"
    }
   ],
   "source": [
    "sae_model = StackedAutoencoder(tracking[best_score_idx][\"bottleneck_size\"]).to(device)\n",
    "sae_model.load_state_dict(torch.load(f\"models/sae_checkpoint_{sae_learning_rates[0]}_{sae_bottleneck_sizes[0]}_{sae_weight_decays[0]}.pt\", weights_only=True))\n",
    "\n",
    "sae_model.evaluate_classify_10(test_loader)"
   ]
  },
  {
   "cell_type": "code",
   "execution_count": 74,
   "metadata": {},
   "outputs": [],
   "source": [
    "class MLPClassifier(nn.Module):\n",
    "    def __init__(self, autoencoder):\n",
    "        super(MLPClassifier, self).__init__()\n",
    "        self.autoencoder = autoencoder\n",
    "        bottleneck_size = autoencoder.bottleneck_size\n",
    "        self.classifier = nn.Sequential(\n",
    "            nn.Linear(bottleneck_size, bottleneck_size*10),\n",
    "            nn.ReLU(),\n",
    "            nn.Linear(bottleneck_size*10, bottleneck_size*20),\n",
    "            nn.ReLU(),\n",
    "            nn.Linear(bottleneck_size*20, bottleneck_size*10),\n",
    "            nn.ReLU(),\n",
    "            nn.Dropout(0.1),\n",
    "            nn.Linear(bottleneck_size*10, bottleneck_size),\n",
    "            nn.Sigmoid()\n",
    "        )\n",
    "\n",
    "    def forward(self, x):\n",
    "        return self.classifier(x)\n",
    "\n",
    "    def fit(\n",
    "        self,\n",
    "        train_loader,\n",
    "        test_loader,\n",
    "        optimizer,\n",
    "        criterion,\n",
    "        num_epochs,\n",
    "        early_stopping,\n",
    "        verbose=True,\n",
    "    ):\n",
    "        for epoch in tqdm(range(num_epochs)):\n",
    "            self.train()\n",
    "            self.autoencoder.eval()\n",
    "            running_loss = 0.0\n",
    "            with tqdm(train_loader, unit=\"batch\", disable=not verbose) as tepoch:\n",
    "                tepoch.set_description(f\"Epoch {epoch + 1}/{num_epochs}\")\n",
    "                for images, labels in tepoch:\n",
    "                    images = images.to(\n",
    "                        next(self.parameters()).device, non_blocking=True\n",
    "                    )\n",
    "                    labels = labels.to(\n",
    "                        next(self.parameters()).device, non_blocking=True\n",
    "                    )\n",
    "                    with torch.no_grad():\n",
    "                        encoded_images = self.autoencoder.encode(images)\n",
    "                    optimizer.zero_grad()\n",
    "                    outputs = self(encoded_images)\n",
    "                    loss = criterion(outputs, labels)\n",
    "                    running_loss += loss.item()\n",
    "                    loss.backward()\n",
    "                    optimizer.step()\n",
    "                    batch_loss = running_loss / len(train_loader)\n",
    "                    tepoch.set_postfix(loss=batch_loss)\n",
    "\n",
    "                self.eval()\n",
    "                with torch.no_grad():\n",
    "                    running_test_loss = 0.0\n",
    "                    for test_images, test_labels in test_loader:\n",
    "                        test_images = test_images.to(\n",
    "                            next(self.parameters()).device, non_blocking=True\n",
    "                        )\n",
    "                        encoded_test_images = self.autoencoder.encode(test_images)\n",
    "                        test_labels = test_labels.to(\n",
    "                            next(self.parameters()).device, non_blocking=True\n",
    "                        )\n",
    "                        outputs = self(encoded_test_images)\n",
    "                        loss = criterion(outputs, test_labels)\n",
    "                        running_test_loss += loss.item()\n",
    "\n",
    "                    test_loss = running_test_loss / len(test_loader)\n",
    "                    early_stopping(test_loss, self)\n",
    "                    if early_stopping.early_stop:\n",
    "                        if verbose:\n",
    "                            print(\"Early stopping!\")\n",
    "                        break\n",
    "\n",
    "    def evaluate(self, test_loader, verbose=False):\n",
    "        self.eval()\n",
    "        y_pred = []\n",
    "        y_true = []\n",
    "\n",
    "        with torch.no_grad():\n",
    "            for images, labels in test_loader:\n",
    "                images = images.to(device)\n",
    "                encoded_images = self.autoencoder.encode(images)\n",
    "                outputs = self(encoded_images)\n",
    "                _, predicted = torch.max(outputs, 1)\n",
    "                y_true.extend(labels.cpu().numpy())\n",
    "                y_pred.extend(predicted.cpu().numpy())\n",
    "\n",
    "            if verbose:\n",
    "                # Confusion matrix\n",
    "                cm = confusion_matrix(y_true, y_pred)\n",
    "                cm_display = ConfusionMatrixDisplay(\n",
    "                    confusion_matrix=cm, display_labels=test_dataset.classes\n",
    "                )\n",
    "                cm_display.plot()\n",
    "                plt.title(f\"Confusion Matrix ({self.__class__.__name__})\")\n",
    "                plt.show()\n",
    "\n",
    "                # Model summary of accuracy and hyperparameters\n",
    "                print(\"Model Architecture:\")\n",
    "                print(self)\n",
    "        \n",
    "        \n",
    "        accuracy = np.mean(np.array(y_true) == np.array(y_pred))\n",
    "        \n",
    "        if verbose:\n",
    "            print(\"\\nModel Evaluation:\")\n",
    "            print(f\"Accuracy: {accuracy:.2f}\")\n",
    "        return accuracy"
   ]
  },
  {
   "cell_type": "code",
   "execution_count": 76,
   "metadata": {},
   "outputs": [],
   "source": [
    "class MSELossWithPenalty(nn.Module):\n",
    "    def __init__(self, num_classes, bottleneck_size, lambda_reg):\n",
    "        \"\"\"\n",
    "        Custom loss function for SAE.\n",
    "\n",
    "        Args:\n",
    "        - targets (torch.Tensor): Target points for each class in the latent space (one-hot or predefined).\n",
    "        - lambda_reg (float): Regularization strength.\n",
    "        \"\"\"\n",
    "        super(MSELossWithPenalty, self).__init__()\n",
    "        self.targets = torch.eye(num_classes, bottleneck_size)\n",
    "        self.lambda_reg = lambda_reg\n",
    "\n",
    "    def forward(self, reconstructed, original, codes, labels):\n",
    "        \"\"\"\n",
    "        Computes the custom loss.\n",
    "\n",
    "        Args:\n",
    "        - reconstructed (torch.Tensor): Reconstructed inputs.\n",
    "        - original (torch.Tensor): Original inputs.\n",
    "        - codes (torch.Tensor): Latent codes from the encoder.\n",
    "        - labels (torch.Tensor): Class labels for the inputs.\n",
    "\n",
    "        Returns:\n",
    "        - torch.Tensor: Total loss.\n",
    "        \"\"\"\n",
    "        # Reconstruction Loss (MSE)\n",
    "        reconstruction_loss = F.mse_loss(reconstructed, original)\n",
    "\n",
    "        # Regularization Term (R)\n",
    "        self.targets = self.targets.to(codes.device)\n",
    "        batch_targets = self.targets[labels]\n",
    "        #print(\"batch: \", batch_targets.shape, \"codes: \", codes.shape)\n",
    "        distances = torch.linalg.norm(codes - batch_targets, dim=1)\n",
    "        regularization_term = distances.mean()\n",
    "\n",
    "        # Total Loss\n",
    "        total_loss = reconstruction_loss + self.lambda_reg * regularization_term\n",
    "        return total_loss\n",
    "\n"
   ]
  },
  {
   "cell_type": "code",
   "execution_count": 77,
   "metadata": {},
   "outputs": [
    {
     "name": "stdout",
     "output_type": "stream",
     "text": [
      "[0.001]\n",
      "[10]\n",
      "[1e-05]\n",
      "[0.25]\n",
      "Learning Rate: 0.001, Bottleneck Size: 10, Weight Decay: 1e-05, Lambda Reg: 0.25\n"
     ]
    },
    {
     "name": "stderr",
     "output_type": "stream",
     "text": [
      "Epoch 1/100: 100%|██████████| 118/118 [00:03<00:00, 36.82batch/s, loss=0.328]\n"
     ]
    },
    {
     "name": "stdout",
     "output_type": "stream",
     "text": [
      "Validation loss decreased (inf --> 0.253196).  Saving model ...\n"
     ]
    },
    {
     "name": "stderr",
     "output_type": "stream",
     "text": [
      "Epoch 2/100: 100%|██████████| 118/118 [00:02<00:00, 39.56batch/s, loss=0.191]\n"
     ]
    },
    {
     "name": "stdout",
     "output_type": "stream",
     "text": [
      "Validation loss decreased (0.253196 --> 0.208819).  Saving model ...\n"
     ]
    },
    {
     "name": "stderr",
     "output_type": "stream",
     "text": [
      "Epoch 3/100: 100%|██████████| 118/118 [00:02<00:00, 39.94batch/s, loss=0.161]\n"
     ]
    },
    {
     "name": "stdout",
     "output_type": "stream",
     "text": [
      "Validation loss decreased (0.208819 --> 0.192380).  Saving model ...\n"
     ]
    },
    {
     "name": "stderr",
     "output_type": "stream",
     "text": [
      "Epoch 4/100: 100%|██████████| 118/118 [00:03<00:00, 38.59batch/s, loss=0.147]\n"
     ]
    },
    {
     "name": "stdout",
     "output_type": "stream",
     "text": [
      "Validation loss decreased (0.192380 --> 0.179882).  Saving model ...\n"
     ]
    },
    {
     "name": "stderr",
     "output_type": "stream",
     "text": [
      "Epoch 5/100: 100%|██████████| 118/118 [00:02<00:00, 39.37batch/s, loss=0.136]\n"
     ]
    },
    {
     "name": "stdout",
     "output_type": "stream",
     "text": [
      "Validation loss decreased (0.179882 --> 0.169244).  Saving model ...\n"
     ]
    },
    {
     "name": "stderr",
     "output_type": "stream",
     "text": [
      "Epoch 6/100: 100%|██████████| 118/118 [00:02<00:00, 39.62batch/s, loss=0.129]\n"
     ]
    },
    {
     "name": "stdout",
     "output_type": "stream",
     "text": [
      "Validation loss decreased (0.169244 --> 0.163390).  Saving model ...\n"
     ]
    },
    {
     "name": "stderr",
     "output_type": "stream",
     "text": [
      "Epoch 7/100: 100%|██████████| 118/118 [00:02<00:00, 40.06batch/s, loss=0.123]\n"
     ]
    },
    {
     "name": "stdout",
     "output_type": "stream",
     "text": [
      "Validation loss decreased (0.163390 --> 0.156916).  Saving model ...\n"
     ]
    },
    {
     "name": "stderr",
     "output_type": "stream",
     "text": [
      "Epoch 8/100: 100%|██████████| 118/118 [00:03<00:00, 38.52batch/s, loss=0.118]\n"
     ]
    },
    {
     "name": "stdout",
     "output_type": "stream",
     "text": [
      "Validation loss decreased (0.156916 --> 0.154020).  Saving model ...\n"
     ]
    },
    {
     "name": "stderr",
     "output_type": "stream",
     "text": [
      "Epoch 9/100: 100%|██████████| 118/118 [00:03<00:00, 39.28batch/s, loss=0.114] \n"
     ]
    },
    {
     "name": "stdout",
     "output_type": "stream",
     "text": [
      "Validation loss decreased (0.154020 --> 0.149248).  Saving model ...\n"
     ]
    },
    {
     "name": "stderr",
     "output_type": "stream",
     "text": [
      "Epoch 10/100: 100%|██████████| 118/118 [00:02<00:00, 39.65batch/s, loss=0.11]  \n"
     ]
    },
    {
     "name": "stdout",
     "output_type": "stream",
     "text": [
      "Validation loss decreased (0.149248 --> 0.145884).  Saving model ...\n"
     ]
    },
    {
     "name": "stderr",
     "output_type": "stream",
     "text": [
      "Epoch 11/100: 100%|██████████| 118/118 [00:03<00:00, 37.92batch/s, loss=0.107] \n"
     ]
    },
    {
     "name": "stdout",
     "output_type": "stream",
     "text": [
      "Validation loss decreased (0.145884 --> 0.143445).  Saving model ...\n"
     ]
    },
    {
     "name": "stderr",
     "output_type": "stream",
     "text": [
      "Epoch 12/100: 100%|██████████| 118/118 [00:02<00:00, 39.62batch/s, loss=0.104] \n"
     ]
    },
    {
     "name": "stdout",
     "output_type": "stream",
     "text": [
      "Validation loss decreased (0.143445 --> 0.141711).  Saving model ...\n"
     ]
    },
    {
     "name": "stderr",
     "output_type": "stream",
     "text": [
      "Epoch 13/100: 100%|██████████| 118/118 [00:02<00:00, 39.36batch/s, loss=0.101] \n"
     ]
    },
    {
     "name": "stdout",
     "output_type": "stream",
     "text": [
      "Validation loss decreased (0.141711 --> 0.140446).  Saving model ...\n"
     ]
    },
    {
     "name": "stderr",
     "output_type": "stream",
     "text": [
      "Epoch 14/100: 100%|██████████| 118/118 [00:03<00:00, 39.23batch/s, loss=0.0983]\n"
     ]
    },
    {
     "name": "stdout",
     "output_type": "stream",
     "text": [
      "Validation loss decreased (0.140446 --> 0.138286).  Saving model ...\n"
     ]
    },
    {
     "name": "stderr",
     "output_type": "stream",
     "text": [
      "Epoch 15/100: 100%|██████████| 118/118 [00:03<00:00, 38.78batch/s, loss=0.0963]\n"
     ]
    },
    {
     "name": "stdout",
     "output_type": "stream",
     "text": [
      "Validation loss decreased (0.138286 --> 0.135967).  Saving model ...\n"
     ]
    },
    {
     "name": "stderr",
     "output_type": "stream",
     "text": [
      "Epoch 16/100: 100%|██████████| 118/118 [00:03<00:00, 39.22batch/s, loss=0.0938]\n"
     ]
    },
    {
     "name": "stdout",
     "output_type": "stream",
     "text": [
      "Validation loss decreased (0.135967 --> 0.135650).  Saving model ...\n"
     ]
    },
    {
     "name": "stderr",
     "output_type": "stream",
     "text": [
      "Epoch 17/100: 100%|██████████| 118/118 [00:02<00:00, 39.43batch/s, loss=0.092] \n"
     ]
    },
    {
     "name": "stdout",
     "output_type": "stream",
     "text": [
      "Validation loss decreased (0.135650 --> 0.133636).  Saving model ...\n"
     ]
    },
    {
     "name": "stderr",
     "output_type": "stream",
     "text": [
      "Epoch 18/100: 100%|██████████| 118/118 [00:03<00:00, 38.08batch/s, loss=0.0902]\n"
     ]
    },
    {
     "name": "stdout",
     "output_type": "stream",
     "text": [
      "Validation loss decreased (0.133636 --> 0.133554).  Saving model ...\n"
     ]
    },
    {
     "name": "stderr",
     "output_type": "stream",
     "text": [
      "Epoch 19/100: 100%|██████████| 118/118 [00:03<00:00, 39.14batch/s, loss=0.0885]\n"
     ]
    },
    {
     "name": "stdout",
     "output_type": "stream",
     "text": [
      "Validation loss decreased (0.133554 --> 0.131938).  Saving model ...\n"
     ]
    },
    {
     "name": "stderr",
     "output_type": "stream",
     "text": [
      "Epoch 20/100: 100%|██████████| 118/118 [00:02<00:00, 39.47batch/s, loss=0.087] \n"
     ]
    },
    {
     "name": "stdout",
     "output_type": "stream",
     "text": [
      "Validation loss decreased (0.131938 --> 0.130743).  Saving model ...\n"
     ]
    },
    {
     "name": "stderr",
     "output_type": "stream",
     "text": [
      "Epoch 21/100: 100%|██████████| 118/118 [00:03<00:00, 38.05batch/s, loss=0.0856]\n"
     ]
    },
    {
     "name": "stdout",
     "output_type": "stream",
     "text": [
      "EarlyStopping counter: 1 out of 5\n"
     ]
    },
    {
     "name": "stderr",
     "output_type": "stream",
     "text": [
      "Epoch 22/100: 100%|██████████| 118/118 [00:03<00:00, 39.33batch/s, loss=0.0843]\n"
     ]
    },
    {
     "name": "stdout",
     "output_type": "stream",
     "text": [
      "Validation loss decreased (0.130743 --> 0.129730).  Saving model ...\n"
     ]
    },
    {
     "name": "stderr",
     "output_type": "stream",
     "text": [
      "Epoch 23/100: 100%|██████████| 118/118 [00:03<00:00, 38.75batch/s, loss=0.0829]\n"
     ]
    },
    {
     "name": "stdout",
     "output_type": "stream",
     "text": [
      "Validation loss decreased (0.129730 --> 0.128568).  Saving model ...\n"
     ]
    },
    {
     "name": "stderr",
     "output_type": "stream",
     "text": [
      "Epoch 24/100: 100%|██████████| 118/118 [00:03<00:00, 39.11batch/s, loss=0.0818]\n"
     ]
    },
    {
     "name": "stdout",
     "output_type": "stream",
     "text": [
      "Validation loss decreased (0.128568 --> 0.127794).  Saving model ...\n"
     ]
    },
    {
     "name": "stderr",
     "output_type": "stream",
     "text": [
      "Epoch 25/100: 100%|██████████| 118/118 [00:03<00:00, 38.12batch/s, loss=0.0805]\n"
     ]
    },
    {
     "name": "stdout",
     "output_type": "stream",
     "text": [
      "Validation loss decreased (0.127794 --> 0.127229).  Saving model ...\n"
     ]
    },
    {
     "name": "stderr",
     "output_type": "stream",
     "text": [
      "Epoch 26/100: 100%|██████████| 118/118 [00:03<00:00, 39.22batch/s, loss=0.0794]\n"
     ]
    },
    {
     "name": "stdout",
     "output_type": "stream",
     "text": [
      "Validation loss decreased (0.127229 --> 0.126534).  Saving model ...\n"
     ]
    },
    {
     "name": "stderr",
     "output_type": "stream",
     "text": [
      "Epoch 27/100: 100%|██████████| 118/118 [00:03<00:00, 39.04batch/s, loss=0.0783]\n"
     ]
    },
    {
     "name": "stdout",
     "output_type": "stream",
     "text": [
      "EarlyStopping counter: 1 out of 5\n"
     ]
    },
    {
     "name": "stderr",
     "output_type": "stream",
     "text": [
      "Epoch 28/100: 100%|██████████| 118/118 [00:03<00:00, 38.32batch/s, loss=0.0774]\n"
     ]
    },
    {
     "name": "stdout",
     "output_type": "stream",
     "text": [
      "Validation loss decreased (0.126534 --> 0.124866).  Saving model ...\n"
     ]
    },
    {
     "name": "stderr",
     "output_type": "stream",
     "text": [
      "Epoch 29/100: 100%|██████████| 118/118 [00:03<00:00, 38.91batch/s, loss=0.0764]\n"
     ]
    },
    {
     "name": "stdout",
     "output_type": "stream",
     "text": [
      "Validation loss decreased (0.124866 --> 0.124586).  Saving model ...\n"
     ]
    },
    {
     "name": "stderr",
     "output_type": "stream",
     "text": [
      "Epoch 30/100: 100%|██████████| 118/118 [00:03<00:00, 38.92batch/s, loss=0.0754]\n"
     ]
    },
    {
     "name": "stdout",
     "output_type": "stream",
     "text": [
      "Validation loss decreased (0.124586 --> 0.124121).  Saving model ...\n"
     ]
    },
    {
     "name": "stderr",
     "output_type": "stream",
     "text": [
      "Epoch 31/100: 100%|██████████| 118/118 [00:03<00:00, 38.70batch/s, loss=0.0746]\n"
     ]
    },
    {
     "name": "stdout",
     "output_type": "stream",
     "text": [
      "Validation loss decreased (0.124121 --> 0.122674).  Saving model ...\n"
     ]
    },
    {
     "name": "stderr",
     "output_type": "stream",
     "text": [
      "Epoch 32/100: 100%|██████████| 118/118 [00:03<00:00, 38.91batch/s, loss=0.0736]\n"
     ]
    },
    {
     "name": "stdout",
     "output_type": "stream",
     "text": [
      "EarlyStopping counter: 1 out of 5\n"
     ]
    },
    {
     "name": "stderr",
     "output_type": "stream",
     "text": [
      "Epoch 33/100: 100%|██████████| 118/118 [00:03<00:00, 38.86batch/s, loss=0.0729]\n"
     ]
    },
    {
     "name": "stdout",
     "output_type": "stream",
     "text": [
      "EarlyStopping counter: 2 out of 5\n"
     ]
    },
    {
     "name": "stderr",
     "output_type": "stream",
     "text": [
      "Epoch 34/100: 100%|██████████| 118/118 [00:03<00:00, 38.60batch/s, loss=0.072] \n"
     ]
    },
    {
     "name": "stdout",
     "output_type": "stream",
     "text": [
      "Validation loss decreased (0.122674 --> 0.121641).  Saving model ...\n"
     ]
    },
    {
     "name": "stderr",
     "output_type": "stream",
     "text": [
      "Epoch 35/100: 100%|██████████| 118/118 [00:03<00:00, 37.67batch/s, loss=0.0712]\n"
     ]
    },
    {
     "name": "stdout",
     "output_type": "stream",
     "text": [
      "EarlyStopping counter: 1 out of 5\n"
     ]
    },
    {
     "name": "stderr",
     "output_type": "stream",
     "text": [
      "Epoch 36/100: 100%|██████████| 118/118 [00:03<00:00, 39.06batch/s, loss=0.0709]\n"
     ]
    },
    {
     "name": "stdout",
     "output_type": "stream",
     "text": [
      "Validation loss decreased (0.121641 --> 0.121304).  Saving model ...\n"
     ]
    },
    {
     "name": "stderr",
     "output_type": "stream",
     "text": [
      "Epoch 37/100: 100%|██████████| 118/118 [00:03<00:00, 38.40batch/s, loss=0.0701]\n"
     ]
    },
    {
     "name": "stdout",
     "output_type": "stream",
     "text": [
      "EarlyStopping counter: 1 out of 5\n"
     ]
    },
    {
     "name": "stderr",
     "output_type": "stream",
     "text": [
      "Epoch 38/100: 100%|██████████| 118/118 [00:03<00:00, 38.15batch/s, loss=0.0698]\n"
     ]
    },
    {
     "name": "stdout",
     "output_type": "stream",
     "text": [
      "Validation loss decreased (0.121304 --> 0.120581).  Saving model ...\n"
     ]
    },
    {
     "name": "stderr",
     "output_type": "stream",
     "text": [
      "Epoch 39/100: 100%|██████████| 118/118 [00:03<00:00, 38.72batch/s, loss=0.069] \n"
     ]
    },
    {
     "name": "stdout",
     "output_type": "stream",
     "text": [
      "Validation loss decreased (0.120581 --> 0.120216).  Saving model ...\n"
     ]
    },
    {
     "name": "stderr",
     "output_type": "stream",
     "text": [
      "Epoch 40/100: 100%|██████████| 118/118 [00:03<00:00, 38.72batch/s, loss=0.0685]\n"
     ]
    },
    {
     "name": "stdout",
     "output_type": "stream",
     "text": [
      "Validation loss decreased (0.120216 --> 0.118928).  Saving model ...\n"
     ]
    },
    {
     "name": "stderr",
     "output_type": "stream",
     "text": [
      "Epoch 41/100: 100%|██████████| 118/118 [00:02<00:00, 39.46batch/s, loss=0.068] \n"
     ]
    },
    {
     "name": "stdout",
     "output_type": "stream",
     "text": [
      "Validation loss decreased (0.118928 --> 0.118827).  Saving model ...\n"
     ]
    },
    {
     "name": "stderr",
     "output_type": "stream",
     "text": [
      "Epoch 42/100: 100%|██████████| 118/118 [00:03<00:00, 39.05batch/s, loss=0.0671]\n"
     ]
    },
    {
     "name": "stdout",
     "output_type": "stream",
     "text": [
      "EarlyStopping counter: 1 out of 5\n"
     ]
    },
    {
     "name": "stderr",
     "output_type": "stream",
     "text": [
      "Epoch 43/100: 100%|██████████| 118/118 [00:03<00:00, 38.04batch/s, loss=0.0668]\n"
     ]
    },
    {
     "name": "stdout",
     "output_type": "stream",
     "text": [
      "EarlyStopping counter: 2 out of 5\n"
     ]
    },
    {
     "name": "stderr",
     "output_type": "stream",
     "text": [
      "Epoch 44/100: 100%|██████████| 118/118 [00:03<00:00, 39.24batch/s, loss=0.0666]\n"
     ]
    },
    {
     "name": "stdout",
     "output_type": "stream",
     "text": [
      "Validation loss decreased (0.118827 --> 0.118128).  Saving model ...\n"
     ]
    },
    {
     "name": "stderr",
     "output_type": "stream",
     "text": [
      "Epoch 45/100: 100%|██████████| 118/118 [00:03<00:00, 38.18batch/s, loss=0.0659]\n"
     ]
    },
    {
     "name": "stdout",
     "output_type": "stream",
     "text": [
      "Validation loss decreased (0.118128 --> 0.118014).  Saving model ...\n"
     ]
    },
    {
     "name": "stderr",
     "output_type": "stream",
     "text": [
      "Epoch 46/100: 100%|██████████| 118/118 [00:03<00:00, 39.00batch/s, loss=0.0654]\n"
     ]
    },
    {
     "name": "stdout",
     "output_type": "stream",
     "text": [
      "Validation loss decreased (0.118014 --> 0.117941).  Saving model ...\n"
     ]
    },
    {
     "name": "stderr",
     "output_type": "stream",
     "text": [
      "Epoch 47/100: 100%|██████████| 118/118 [00:03<00:00, 39.26batch/s, loss=0.065] \n"
     ]
    },
    {
     "name": "stdout",
     "output_type": "stream",
     "text": [
      "Validation loss decreased (0.117941 --> 0.117705).  Saving model ...\n"
     ]
    },
    {
     "name": "stderr",
     "output_type": "stream",
     "text": [
      "Epoch 48/100: 100%|██████████| 118/118 [00:03<00:00, 37.79batch/s, loss=0.0645]\n"
     ]
    },
    {
     "name": "stdout",
     "output_type": "stream",
     "text": [
      "EarlyStopping counter: 1 out of 5\n"
     ]
    },
    {
     "name": "stderr",
     "output_type": "stream",
     "text": [
      "Epoch 49/100: 100%|██████████| 118/118 [00:03<00:00, 37.13batch/s, loss=0.0641]\n"
     ]
    },
    {
     "name": "stdout",
     "output_type": "stream",
     "text": [
      "Validation loss decreased (0.117705 --> 0.117488).  Saving model ...\n"
     ]
    },
    {
     "name": "stderr",
     "output_type": "stream",
     "text": [
      "Epoch 50/100: 100%|██████████| 118/118 [00:03<00:00, 38.65batch/s, loss=0.0639]\n"
     ]
    },
    {
     "name": "stdout",
     "output_type": "stream",
     "text": [
      "EarlyStopping counter: 1 out of 5\n"
     ]
    },
    {
     "name": "stderr",
     "output_type": "stream",
     "text": [
      "Epoch 51/100: 100%|██████████| 118/118 [00:03<00:00, 38.83batch/s, loss=0.0634]\n"
     ]
    },
    {
     "name": "stdout",
     "output_type": "stream",
     "text": [
      "EarlyStopping counter: 2 out of 5\n"
     ]
    },
    {
     "name": "stderr",
     "output_type": "stream",
     "text": [
      "Epoch 52/100: 100%|██████████| 118/118 [00:03<00:00, 37.53batch/s, loss=0.0627]\n"
     ]
    },
    {
     "name": "stdout",
     "output_type": "stream",
     "text": [
      "Validation loss decreased (0.117488 --> 0.116493).  Saving model ...\n"
     ]
    },
    {
     "name": "stderr",
     "output_type": "stream",
     "text": [
      "Epoch 53/100: 100%|██████████| 118/118 [00:03<00:00, 38.61batch/s, loss=0.0623]\n"
     ]
    },
    {
     "name": "stdout",
     "output_type": "stream",
     "text": [
      "EarlyStopping counter: 1 out of 5\n"
     ]
    },
    {
     "name": "stderr",
     "output_type": "stream",
     "text": [
      "Epoch 54/100: 100%|██████████| 118/118 [00:03<00:00, 39.01batch/s, loss=0.062] \n"
     ]
    },
    {
     "name": "stdout",
     "output_type": "stream",
     "text": [
      "Validation loss decreased (0.116493 --> 0.116288).  Saving model ...\n"
     ]
    },
    {
     "name": "stderr",
     "output_type": "stream",
     "text": [
      "Epoch 55/100: 100%|██████████| 118/118 [00:03<00:00, 37.44batch/s, loss=0.062] \n"
     ]
    },
    {
     "name": "stdout",
     "output_type": "stream",
     "text": [
      "Validation loss decreased (0.116288 --> 0.116265).  Saving model ...\n"
     ]
    },
    {
     "name": "stderr",
     "output_type": "stream",
     "text": [
      "Epoch 56/100: 100%|██████████| 118/118 [00:03<00:00, 38.56batch/s, loss=0.0615]\n"
     ]
    },
    {
     "name": "stdout",
     "output_type": "stream",
     "text": [
      "EarlyStopping counter: 1 out of 5\n"
     ]
    },
    {
     "name": "stderr",
     "output_type": "stream",
     "text": [
      "Epoch 57/100: 100%|██████████| 118/118 [00:03<00:00, 38.71batch/s, loss=0.061] \n"
     ]
    },
    {
     "name": "stdout",
     "output_type": "stream",
     "text": [
      "Validation loss decreased (0.116265 --> 0.115171).  Saving model ...\n"
     ]
    },
    {
     "name": "stderr",
     "output_type": "stream",
     "text": [
      "Epoch 58/100: 100%|██████████| 118/118 [00:03<00:00, 37.76batch/s, loss=0.0609]\n"
     ]
    },
    {
     "name": "stdout",
     "output_type": "stream",
     "text": [
      "Validation loss decreased (0.115171 --> 0.115030).  Saving model ...\n"
     ]
    },
    {
     "name": "stderr",
     "output_type": "stream",
     "text": [
      "Epoch 59/100: 100%|██████████| 118/118 [00:03<00:00, 38.20batch/s, loss=0.0603]\n"
     ]
    },
    {
     "name": "stdout",
     "output_type": "stream",
     "text": [
      "Validation loss decreased (0.115030 --> 0.114883).  Saving model ...\n"
     ]
    },
    {
     "name": "stderr",
     "output_type": "stream",
     "text": [
      "Epoch 60/100: 100%|██████████| 118/118 [00:03<00:00, 38.91batch/s, loss=0.0603]\n"
     ]
    },
    {
     "name": "stdout",
     "output_type": "stream",
     "text": [
      "Validation loss decreased (0.114883 --> 0.114428).  Saving model ...\n"
     ]
    },
    {
     "name": "stderr",
     "output_type": "stream",
     "text": [
      "Epoch 61/100: 100%|██████████| 118/118 [00:03<00:00, 38.95batch/s, loss=0.0595]\n"
     ]
    },
    {
     "name": "stdout",
     "output_type": "stream",
     "text": [
      "Validation loss decreased (0.114428 --> 0.113613).  Saving model ...\n"
     ]
    },
    {
     "name": "stderr",
     "output_type": "stream",
     "text": [
      "Epoch 62/100: 100%|██████████| 118/118 [00:03<00:00, 37.47batch/s, loss=0.0597]\n"
     ]
    },
    {
     "name": "stdout",
     "output_type": "stream",
     "text": [
      "EarlyStopping counter: 1 out of 5\n"
     ]
    },
    {
     "name": "stderr",
     "output_type": "stream",
     "text": [
      "Epoch 63/100: 100%|██████████| 118/118 [00:03<00:00, 38.65batch/s, loss=0.0594]\n"
     ]
    },
    {
     "name": "stdout",
     "output_type": "stream",
     "text": [
      "Validation loss decreased (0.113613 --> 0.112774).  Saving model ...\n"
     ]
    },
    {
     "name": "stderr",
     "output_type": "stream",
     "text": [
      "Epoch 64/100: 100%|██████████| 118/118 [00:03<00:00, 38.47batch/s, loss=0.0589]\n"
     ]
    },
    {
     "name": "stdout",
     "output_type": "stream",
     "text": [
      "EarlyStopping counter: 1 out of 5\n"
     ]
    },
    {
     "name": "stderr",
     "output_type": "stream",
     "text": [
      "Epoch 65/100: 100%|██████████| 118/118 [00:03<00:00, 37.84batch/s, loss=0.0584]\n"
     ]
    },
    {
     "name": "stdout",
     "output_type": "stream",
     "text": [
      "EarlyStopping counter: 2 out of 5\n"
     ]
    },
    {
     "name": "stderr",
     "output_type": "stream",
     "text": [
      "Epoch 66/100: 100%|██████████| 118/118 [00:03<00:00, 38.93batch/s, loss=0.0587]\n"
     ]
    },
    {
     "name": "stdout",
     "output_type": "stream",
     "text": [
      "EarlyStopping counter: 3 out of 5\n"
     ]
    },
    {
     "name": "stderr",
     "output_type": "stream",
     "text": [
      "Epoch 67/100: 100%|██████████| 118/118 [00:03<00:00, 38.51batch/s, loss=0.0585]\n"
     ]
    },
    {
     "name": "stdout",
     "output_type": "stream",
     "text": [
      "EarlyStopping counter: 4 out of 5\n"
     ]
    },
    {
     "name": "stderr",
     "output_type": "stream",
     "text": [
      "Epoch 68/100: 100%|██████████| 118/118 [00:03<00:00, 39.11batch/s, loss=0.0581]\n"
     ]
    },
    {
     "name": "stdout",
     "output_type": "stream",
     "text": [
      "EarlyStopping counter: 5 out of 5\n",
      "Early stopping!\n",
      "Test Loss: 0.112866, Elapsed Time: 235.25s\n"
     ]
    },
    {
     "name": "stderr",
     "output_type": "stream",
     "text": [
      "Epoch 1/100: 100%|██████████| 118/118 [00:02<00:00, 41.49batch/s, loss=2.27]\n",
      "  1%|          | 1/100 [00:03<05:19,  3.23s/it]"
     ]
    },
    {
     "name": "stdout",
     "output_type": "stream",
     "text": [
      "Validation loss decreased (inf --> 2.172308).  Saving model ...\n"
     ]
    },
    {
     "name": "stderr",
     "output_type": "stream",
     "text": [
      "Epoch 2/100: 100%|██████████| 118/118 [00:02<00:00, 41.68batch/s, loss=1.8]\n",
      "  2%|▏         | 2/100 [00:06<05:15,  3.22s/it]"
     ]
    },
    {
     "name": "stdout",
     "output_type": "stream",
     "text": [
      "Validation loss decreased (2.172308 --> 1.632723).  Saving model ...\n"
     ]
    },
    {
     "name": "stderr",
     "output_type": "stream",
     "text": [
      "Epoch 3/100: 100%|██████████| 118/118 [00:02<00:00, 42.27batch/s, loss=1.49]\n",
      "  3%|▎         | 3/100 [00:09<05:13,  3.23s/it]"
     ]
    },
    {
     "name": "stdout",
     "output_type": "stream",
     "text": [
      "Validation loss decreased (1.632723 --> 1.572394).  Saving model ...\n"
     ]
    },
    {
     "name": "stderr",
     "output_type": "stream",
     "text": [
      "Epoch 4/100: 100%|██████████| 118/118 [00:02<00:00, 41.66batch/s, loss=1.47]\n",
      "  4%|▍         | 4/100 [00:12<05:09,  3.23s/it]"
     ]
    },
    {
     "name": "stdout",
     "output_type": "stream",
     "text": [
      "Validation loss decreased (1.572394 --> 1.566275).  Saving model ...\n"
     ]
    },
    {
     "name": "stderr",
     "output_type": "stream",
     "text": [
      "Epoch 5/100: 100%|██████████| 118/118 [00:02<00:00, 41.72batch/s, loss=1.46]\n",
      "  5%|▌         | 5/100 [00:16<05:05,  3.22s/it]"
     ]
    },
    {
     "name": "stdout",
     "output_type": "stream",
     "text": [
      "Validation loss decreased (1.566275 --> 1.565898).  Saving model ...\n"
     ]
    },
    {
     "name": "stderr",
     "output_type": "stream",
     "text": [
      "Epoch 6/100: 100%|██████████| 118/118 [00:02<00:00, 42.12batch/s, loss=1.46]\n",
      "  6%|▌         | 6/100 [00:19<05:03,  3.23s/it]"
     ]
    },
    {
     "name": "stdout",
     "output_type": "stream",
     "text": [
      "Validation loss decreased (1.565898 --> 1.564946).  Saving model ...\n"
     ]
    },
    {
     "name": "stderr",
     "output_type": "stream",
     "text": [
      "Epoch 7/100: 100%|██████████| 118/118 [00:02<00:00, 41.90batch/s, loss=1.46]\n",
      "  7%|▋         | 7/100 [00:22<04:59,  3.22s/it]"
     ]
    },
    {
     "name": "stdout",
     "output_type": "stream",
     "text": [
      "Validation loss decreased (1.564946 --> 1.561556).  Saving model ...\n"
     ]
    },
    {
     "name": "stderr",
     "output_type": "stream",
     "text": [
      "Epoch 8/100: 100%|██████████| 118/118 [00:02<00:00, 41.92batch/s, loss=1.46]\n",
      "  8%|▊         | 8/100 [00:25<04:55,  3.21s/it]"
     ]
    },
    {
     "name": "stdout",
     "output_type": "stream",
     "text": [
      "EarlyStopping counter: 1 out of 5\n"
     ]
    },
    {
     "name": "stderr",
     "output_type": "stream",
     "text": [
      "Epoch 9/100: 100%|██████████| 118/118 [00:02<00:00, 42.29batch/s, loss=1.46]\n",
      "  9%|▉         | 9/100 [00:28<04:52,  3.22s/it]"
     ]
    },
    {
     "name": "stdout",
     "output_type": "stream",
     "text": [
      "EarlyStopping counter: 2 out of 5\n"
     ]
    },
    {
     "name": "stderr",
     "output_type": "stream",
     "text": [
      "Epoch 10/100: 100%|██████████| 118/118 [00:02<00:00, 42.00batch/s, loss=1.46]\n",
      " 10%|█         | 10/100 [00:32<04:48,  3.21s/it]"
     ]
    },
    {
     "name": "stdout",
     "output_type": "stream",
     "text": [
      "Validation loss decreased (1.561556 --> 1.558750).  Saving model ...\n"
     ]
    },
    {
     "name": "stderr",
     "output_type": "stream",
     "text": [
      "Epoch 11/100: 100%|██████████| 118/118 [00:02<00:00, 41.24batch/s, loss=1.46]\n",
      " 11%|█         | 11/100 [00:35<04:46,  3.22s/it]"
     ]
    },
    {
     "name": "stdout",
     "output_type": "stream",
     "text": [
      "Validation loss decreased (1.558750 --> 1.557487).  Saving model ...\n"
     ]
    },
    {
     "name": "stderr",
     "output_type": "stream",
     "text": [
      "Epoch 12/100: 100%|██████████| 118/118 [00:02<00:00, 41.77batch/s, loss=1.46]\n",
      " 12%|█▏        | 12/100 [00:38<04:44,  3.24s/it]"
     ]
    },
    {
     "name": "stdout",
     "output_type": "stream",
     "text": [
      "EarlyStopping counter: 1 out of 5\n"
     ]
    },
    {
     "name": "stderr",
     "output_type": "stream",
     "text": [
      "Epoch 13/100: 100%|██████████| 118/118 [00:02<00:00, 41.98batch/s, loss=1.46]\n",
      " 13%|█▎        | 13/100 [00:41<04:40,  3.22s/it]"
     ]
    },
    {
     "name": "stdout",
     "output_type": "stream",
     "text": [
      "Validation loss decreased (1.557487 --> 1.556955).  Saving model ...\n"
     ]
    },
    {
     "name": "stderr",
     "output_type": "stream",
     "text": [
      "Epoch 14/100: 100%|██████████| 118/118 [00:02<00:00, 41.86batch/s, loss=1.46]\n",
      " 14%|█▍        | 14/100 [00:45<04:36,  3.22s/it]"
     ]
    },
    {
     "name": "stdout",
     "output_type": "stream",
     "text": [
      "Validation loss decreased (1.556955 --> 1.555822).  Saving model ...\n"
     ]
    },
    {
     "name": "stderr",
     "output_type": "stream",
     "text": [
      "Epoch 15/100: 100%|██████████| 118/118 [00:02<00:00, 41.93batch/s, loss=1.46]\n",
      " 15%|█▌        | 15/100 [00:48<04:34,  3.23s/it]"
     ]
    },
    {
     "name": "stdout",
     "output_type": "stream",
     "text": [
      "Validation loss decreased (1.555822 --> 1.555805).  Saving model ...\n"
     ]
    },
    {
     "name": "stderr",
     "output_type": "stream",
     "text": [
      "Epoch 16/100: 100%|██████████| 118/118 [00:02<00:00, 42.09batch/s, loss=1.46]\n",
      " 16%|█▌        | 16/100 [00:51<04:30,  3.22s/it]"
     ]
    },
    {
     "name": "stdout",
     "output_type": "stream",
     "text": [
      "EarlyStopping counter: 1 out of 5\n"
     ]
    },
    {
     "name": "stderr",
     "output_type": "stream",
     "text": [
      "Epoch 17/100: 100%|██████████| 118/118 [00:02<00:00, 42.04batch/s, loss=1.46]\n",
      " 17%|█▋        | 17/100 [00:54<04:26,  3.21s/it]"
     ]
    },
    {
     "name": "stdout",
     "output_type": "stream",
     "text": [
      "EarlyStopping counter: 2 out of 5\n"
     ]
    },
    {
     "name": "stderr",
     "output_type": "stream",
     "text": [
      "Epoch 18/100: 100%|██████████| 118/118 [00:02<00:00, 41.96batch/s, loss=1.46]\n",
      " 18%|█▊        | 18/100 [00:57<04:24,  3.22s/it]"
     ]
    },
    {
     "name": "stdout",
     "output_type": "stream",
     "text": [
      "EarlyStopping counter: 3 out of 5\n"
     ]
    },
    {
     "name": "stderr",
     "output_type": "stream",
     "text": [
      "Epoch 19/100: 100%|██████████| 118/118 [00:02<00:00, 41.88batch/s, loss=1.46]\n",
      " 19%|█▉        | 19/100 [01:01<04:20,  3.21s/it]"
     ]
    },
    {
     "name": "stdout",
     "output_type": "stream",
     "text": [
      "EarlyStopping counter: 4 out of 5\n"
     ]
    },
    {
     "name": "stderr",
     "output_type": "stream",
     "text": [
      "Epoch 20/100: 100%|██████████| 118/118 [00:02<00:00, 41.49batch/s, loss=1.46]\n",
      " 20%|██        | 20/100 [01:04<04:17,  3.22s/it]"
     ]
    },
    {
     "name": "stdout",
     "output_type": "stream",
     "text": [
      "Validation loss decreased (1.555805 --> 1.554345).  Saving model ...\n"
     ]
    },
    {
     "name": "stderr",
     "output_type": "stream",
     "text": [
      "Epoch 21/100: 100%|██████████| 118/118 [00:02<00:00, 40.58batch/s, loss=1.46]\n",
      " 21%|██        | 21/100 [01:07<04:17,  3.26s/it]"
     ]
    },
    {
     "name": "stdout",
     "output_type": "stream",
     "text": [
      "EarlyStopping counter: 1 out of 5\n"
     ]
    },
    {
     "name": "stderr",
     "output_type": "stream",
     "text": [
      "Epoch 22/100: 100%|██████████| 118/118 [00:02<00:00, 40.61batch/s, loss=1.46]\n",
      " 22%|██▏       | 22/100 [01:11<04:14,  3.26s/it]"
     ]
    },
    {
     "name": "stdout",
     "output_type": "stream",
     "text": [
      "EarlyStopping counter: 2 out of 5\n"
     ]
    },
    {
     "name": "stderr",
     "output_type": "stream",
     "text": [
      "Epoch 23/100: 100%|██████████| 118/118 [00:02<00:00, 40.50batch/s, loss=1.46]\n",
      " 23%|██▎       | 23/100 [01:14<04:11,  3.27s/it]"
     ]
    },
    {
     "name": "stdout",
     "output_type": "stream",
     "text": [
      "EarlyStopping counter: 3 out of 5\n"
     ]
    },
    {
     "name": "stderr",
     "output_type": "stream",
     "text": [
      "Epoch 24/100: 100%|██████████| 118/118 [00:02<00:00, 39.81batch/s, loss=1.46]\n",
      " 24%|██▍       | 24/100 [01:17<04:11,  3.31s/it]"
     ]
    },
    {
     "name": "stdout",
     "output_type": "stream",
     "text": [
      "EarlyStopping counter: 4 out of 5\n"
     ]
    },
    {
     "name": "stderr",
     "output_type": "stream",
     "text": [
      "Epoch 25/100: 100%|██████████| 118/118 [00:02<00:00, 42.08batch/s, loss=1.46]\n",
      " 24%|██▍       | 24/100 [01:20<04:16,  3.37s/it]"
     ]
    },
    {
     "name": "stdout",
     "output_type": "stream",
     "text": [
      "EarlyStopping counter: 5 out of 5\n",
      "Early stopping!\n"
     ]
    },
    {
     "name": "stderr",
     "output_type": "stream",
     "text": [
      "\n"
     ]
    },
    {
     "data": {
      "image/png": "[encoded data removed]",
      "text/plain": [
       "<Figure size 640x480 with 2 Axes>"
      ]
     },
     "metadata": {},
     "output_type": "display_data"
    },
    {
     "name": "stdout",
     "output_type": "stream",
     "text": [
      "Model Architecture:\n",
      "MLPClassifier(\n",
      "  (autoencoder): StackedAutoencoder(\n",
      "    (encoder): Sequential(\n",
      "      (0): Linear(in_features=784, out_features=800, bias=True)\n",
      "      (1): ReLU()\n",
      "      (2): Linear(in_features=800, out_features=200, bias=True)\n",
      "      (3): ReLU()\n",
      "      (4): Linear(in_features=200, out_features=10, bias=True)\n",
      "    )\n",
      "    (decoder): Sequential(\n",
      "      (0): Linear(in_features=10, out_features=200, bias=True)\n",
      "      (1): ReLU()\n",
      "      (2): Linear(in_features=200, out_features=800, bias=True)\n",
      "      (3): ReLU()\n",
      "      (4): Linear(in_features=800, out_features=784, bias=True)\n",
      "      (5): Sigmoid()\n",
      "    )\n",
      "  )\n",
      "  (classifier): Sequential(\n",
      "    (0): Linear(in_features=10, out_features=100, bias=True)\n",
      "    (1): ReLU()\n",
      "    (2): Linear(in_features=100, out_features=200, bias=True)\n",
      "    (3): ReLU()\n",
      "    (4): Linear(in_features=200, out_features=100, bias=True)\n",
      "    (5): ReLU()\n",
      "    (6): Dropout(p=0.1, inplace=False)\n",
      "    (7): Linear(in_features=100, out_features=10, bias=True)\n",
      "    (8): Sigmoid()\n",
      "  )\n",
      ")\n",
      "\n",
      "Model Evaluation:\n",
      "Accuracy: 0.92\n",
      "Accuracy: 0.9177\n",
      "\n"
     ]
    }
   ],
   "source": [
    "# hyperparams\n",
    "sae_num_epochs = 100\n",
    "\n",
    "sae_learning_rates = [0.001]\n",
    "sae_bottleneck_sizes = [10]\n",
    "sae_weight_decays = [1e-5]\n",
    "sae_lambda_regs = [0.25]\n",
    "verbose = True\n",
    "\n",
    "print(sae_learning_rates)\n",
    "print(sae_bottleneck_sizes)\n",
    "print(sae_weight_decays)\n",
    "print(sae_lambda_regs)\n",
    "\n",
    "# train the grid search, time the training and smallest validation loss, and the best hyperparameters\n",
    "tracking_w_penalty = []\n",
    "\n",
    "for sae_learning_rate in sae_learning_rates:\n",
    "    for bottleneck_size in sae_bottleneck_sizes:\n",
    "        for weight_decay in sae_weight_decays:\n",
    "            for lambda_reg in sae_lambda_regs:\n",
    "                print(\n",
    "                    f\"Learning Rate: {sae_learning_rate}, Bottleneck Size: {bottleneck_size}, Weight Decay: {weight_decay}, Lambda Reg: {lambda_reg}\"\n",
    "                )\n",
    "                sae_model = StackedAutoencoder(bottleneck_size).to(device)\n",
    "                sae_criterion = MSELossWithPenalty(10, bottleneck_size, lambda_reg)\n",
    "                path_model = f\"models/sae_checkpoint_{sae_learning_rate}_{bottleneck_size}_{weight_decay}_{lambda_reg}.pt\"\n",
    "                sae_early_stopping = EarlyStopping(\n",
    "                    patience=5, verbose=verbose, path=path_model\n",
    "                )\n",
    "\n",
    "                sae_optimizer = optim.RAdam(\n",
    "                    sae_model.parameters(),\n",
    "                    lr=sae_learning_rate,\n",
    "                    weight_decay=weight_decay,\n",
    "                    decoupled_weight_decay=True,\n",
    "                )\n",
    "\n",
    "                test_loss, elapsed_time = sae_model.fit(\n",
    "                    train_loader,\n",
    "                    sae_optimizer,\n",
    "                    sae_criterion,\n",
    "                    sae_num_epochs,\n",
    "                    early_stopping=sae_early_stopping,\n",
    "                    test_loader=test_loader,\n",
    "                    with_penalty=True,\n",
    "                    verbose=verbose,\n",
    "                )\n",
    "\n",
    "                print(f\"Test Loss: {test_loss:.6f}, Elapsed Time: {elapsed_time:.2f}s\")\n",
    "\n",
    "                mlp_learning_rate = 0.001\n",
    "                mlp_num_epochs = 100\n",
    "\n",
    "                mlp_model = MLPClassifier(sae_model).to(device)\n",
    "                mlp_criterion = nn.CrossEntropyLoss()\n",
    "                mlp_optimizer = optim.RAdam(\n",
    "                    \n",
    "                    mlp_model.parameters(), lr=mlp_learning_rate, weight_decay=1e-5, decoupled_weight_decay=True\n",
    "                )\n",
    "                path_model = f\"models/mlp_checkpoint_{sae_learning_rate}_{bottleneck_size}_{weight_decay}_{lambda_reg}.pt\"\n",
    "                mlp_early_stopping = EarlyStopping(patience=5, verbose=verbose, path=path_model)\n",
    "\n",
    "                mlp_model.fit(\n",
    "                    train_loader,\n",
    "                    test_loader,\n",
    "                    mlp_optimizer,\n",
    "                    mlp_criterion,\n",
    "                    mlp_num_epochs,\n",
    "                    mlp_early_stopping,\n",
    "                    verbose=verbose,\n",
    "                )\n",
    "                \n",
    "                accuracy = mlp_model.evaluate(test_loader, verbose=verbose)\n",
    "\n",
    "                tracking.append(\n",
    "                    {\n",
    "                        \"learning_rate\": sae_learning_rate,\n",
    "                        \"bottleneck_size\": bottleneck_size,\n",
    "                        \"weight_decay\": weight_decay,\n",
    "                        \"test_loss\": test_loss,\n",
    "                        \"elapsed_time\": elapsed_time,\n",
    "                        \"lambda_reg\": lambda_reg,\n",
    "                        \"mlp_accuracy\": accuracy,\n",
    "                    }\n",
    "                )\n",
    "\n",
    "                print(f\"Accuracy: {accuracy}\\n\")"
   ]
  },
  {
   "cell_type": "code",
   "execution_count": null,
   "metadata": {},
   "outputs": [
    {
     "ename": "KeyError",
     "evalue": "'mlp_accuracy'",
     "output_type": "error",
     "traceback": [
      "\u001b[0;31m---------------------------------------------------------------------------\u001b[0m",
      "\u001b[0;31mKeyError\u001b[0m                                  Traceback (most recent call last)",
      "Cell \u001b[0;32mIn[20], line 1\u001b[0m\n\u001b[0;32m----> 1\u001b[0m best_accuracy_idx \u001b[38;5;241m=\u001b[39m np\u001b[38;5;241m.\u001b[39margmax([\u001b[43mx\u001b[49m\u001b[43m[\u001b[49m\u001b[38;5;124;43m\"\u001b[39;49m\u001b[38;5;124;43mmlp_accuracy\u001b[39;49m\u001b[38;5;124;43m\"\u001b[39;49m\u001b[43m]\u001b[49m \u001b[38;5;28;01mfor\u001b[39;00m x \u001b[38;5;129;01min\u001b[39;00m tracking])\n\u001b[1;32m      3\u001b[0m sae_model \u001b[38;5;241m=\u001b[39m StackedAutoencoder(\u001b[38;5;241m10\u001b[39m)\u001b[38;5;241m.\u001b[39mto(device)\n\u001b[1;32m      4\u001b[0m sae_model\u001b[38;5;241m.\u001b[39mload_state_dict(torch\u001b[38;5;241m.\u001b[39mload(\u001b[38;5;124mf\u001b[39m\u001b[38;5;124m\"\u001b[39m\u001b[38;5;124mmodels/sae_checkpoint_0.001_10_\u001b[39m\u001b[38;5;132;01m{\u001b[39;00mtracking[best_accuracy_idx][\u001b[38;5;124m'\u001b[39m\u001b[38;5;124mweight_decay\u001b[39m\u001b[38;5;124m'\u001b[39m]\u001b[38;5;132;01m}\u001b[39;00m\u001b[38;5;124m_\u001b[39m\u001b[38;5;132;01m{\u001b[39;00mtracking[best_accuracy_idx][\u001b[38;5;124m'\u001b[39m\u001b[38;5;124mlambda_reg\u001b[39m\u001b[38;5;124m'\u001b[39m]\u001b[38;5;132;01m}\u001b[39;00m\u001b[38;5;124m.pt\u001b[39m\u001b[38;5;124m\"\u001b[39m, weights_only\u001b[38;5;241m=\u001b[39m\u001b[38;5;28;01mTrue\u001b[39;00m))\n",
      "\u001b[0;31mKeyError\u001b[0m: 'mlp_accuracy'"
     ]
    }
   ],
   "source": [
    "best_accuracy_idx = np.argmax([x[\"mlp_accuracy\"] for x in tracking])\n",
    "\n",
    "sae_model = StackedAutoencoder(10).to(device)\n",
    "sae_model.load_state_dict(torch.load(f\"models/sae_checkpoint_0.001_10_{tracking[best_accuracy_idx]['weight_decay']}_{tracking[best_accuracy_idx]['lambda_reg']}.pt\", weights_only=True))\n",
    "sae_model.evaluate_classify_10(test_loader)\n",
    "sae_model.evaluate_classify(test_loader)"
   ]
  },
  {
   "cell_type": "code",
   "execution_count": 66,
   "metadata": {},
   "outputs": [
    {
     "data": {
      "image/png": "[encoded data removed]",
      "text/plain": [
       "<Figure size 640x480 with 2 Axes>"
      ]
     },
     "metadata": {},
     "output_type": "display_data"
    },
    {
     "name": "stdout",
     "output_type": "stream",
     "text": [
      "Model Architecture:\n",
      "MLPClassifier(\n",
      "  (autoencoder): StackedAutoencoder(\n",
      "    (encoder): Sequential(\n",
      "      (0): Linear(in_features=784, out_features=800, bias=True)\n",
      "      (1): ReLU()\n",
      "      (2): Linear(in_features=800, out_features=200, bias=True)\n",
      "      (3): ReLU()\n",
      "      (4): Linear(in_features=200, out_features=10, bias=True)\n",
      "    )\n",
      "    (decoder): Sequential(\n",
      "      (0): Linear(in_features=10, out_features=200, bias=True)\n",
      "      (1): ReLU()\n",
      "      (2): Linear(in_features=200, out_features=800, bias=True)\n",
      "      (3): ReLU()\n",
      "      (4): Linear(in_features=800, out_features=784, bias=True)\n",
      "      (5): Sigmoid()\n",
      "    )\n",
      "  )\n",
      "  (classifier): Sequential(\n",
      "    (0): Linear(in_features=10, out_features=20, bias=True)\n",
      "    (1): ReLU()\n",
      "    (2): Linear(in_features=20, out_features=10, bias=True)\n",
      "  )\n",
      ")\n",
      "\n",
      "Model Evaluation:\n",
      "Accuracy: 0.9129\n"
     ]
    }
   ],
   "source": [
    "mlp_model.evaluate(test_loader)"
   ]
  }
 ],
 "metadata": {
  "kernelspec": {
   "display_name": "eel6814-nn-bS2_zX9a-py3.12",
   "language": "python",
   "name": "python3"
  },
  "language_info": {
   "codemirror_mode": {
    "name": "ipython",
    "version": 3
   },
   "file_extension": ".py",
   "mimetype": "text/x-python",
   "name": "python",
   "nbconvert_exporter": "python",
   "pygments_lexer": "ipython3",
   "version": "3.12.7"
  }
 },
 "nbformat": 4,
 "nbformat_minor": 2
}
