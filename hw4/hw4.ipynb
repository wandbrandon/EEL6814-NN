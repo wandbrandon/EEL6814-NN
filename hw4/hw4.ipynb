{
 "cells": [
  {
   "cell_type": "code",
   "execution_count": 9,
   "metadata": {},
   "outputs": [],
   "source": [
    "import torch\n",
    "import torch.nn as nn\n",
    "import torch.optim as optim\n",
    "import torchvision\n",
    "import torchvision.transforms as transforms\n",
    "import matplotlib.pyplot as plt\n",
    "import numpy as np\n",
    "from tqdm import tqdm\n",
    "from sklearn.metrics import confusion_matrix, ConfusionMatrixDisplay\n",
    "\n",
    "# Device configuration\n",
    "# I am using a Mac M3 chip, so I can't use CUDA, but if you are on nvidia, change this to CUDA\n",
    "device = torch.device(\"mps\")"
   ]
  },
  {
   "cell_type": "code",
   "execution_count": 19,
   "metadata": {},
   "outputs": [],
   "source": [
    "# with a large batch size, the optimizer needs a faster learning rate to converge properly. \n",
    "\n",
    "num_epochs = 20\n",
    "batch_size = 600\n",
    "learning_rate = 0.02"
   ]
  },
  {
   "cell_type": "markdown",
   "metadata": {},
   "source": [
    "Let's load the MNIST data set, first we use torch to install the data, then we use transform to preprocess the images. then using torch utilities we load the data into a dataset, and batch it. "
   ]
  },
  {
   "cell_type": "code",
   "execution_count": 20,
   "metadata": {},
   "outputs": [
    {
     "data": {
      "image/png": "[encoded data removed]",
      "text/plain": [
       "<Figure size 640x480 with 6 Axes>"
      ]
     },
     "metadata": {},
     "output_type": "display_data"
    }
   ],
   "source": [
    "# MNIST dataset\n",
    "transform = transforms.Compose([transforms.ToTensor(), transforms.Normalize((0.5,), (0.5,))])\n",
    "train_dataset = torchvision.datasets.MNIST(root='./data', train=True, download=True, transform=transform)\n",
    "test_dataset = torchvision.datasets.MNIST(root='./data', train=False, download=True, transform=transform)\n",
    "\n",
    "train_loader = torch.utils.data.DataLoader(dataset=train_dataset, batch_size=batch_size, shuffle=True)\n",
    "test_loader = torch.utils.data.DataLoader(dataset=test_dataset, batch_size=batch_size, shuffle=False)\n",
    "\n",
    "# visualize some of the data\n",
    "examples = iter(train_loader)\n",
    "example_data, example_targets = next(examples)\n",
    "for i in range(6):\n",
    "    plt.subplot(2, 3, i+1)\n",
    "    plt.title(example_targets[i].item())\n",
    "    plt.axis('off')\n",
    "    plt.imshow(example_data[i][0], cmap='gray')"
   ]
  },
  {
   "cell_type": "markdown",
   "metadata": {},
   "source": [
    "Now let's create a simple Convolutional Neural Network, \n",
    "\n",
    "I choose two Convolutional layers here, to capture basic concepts of the image, The first layer has 16 filters, and for more complex details, the second layer has 32 filters. Max pooling helps make the images resolution smaller, which lowers the dimensionality to ease computations in the next layer. Then ReLU makes the model learn better by avoiding linearity. The fully connected layers at the end are the output nodes and determine which digit is most likely (0-9). This setup works well for MNIST because the images are small and don't have any color data."
   ]
  },
  {
   "cell_type": "code",
   "execution_count": 21,
   "metadata": {},
   "outputs": [],
   "source": [
    "# make a cnn model with 2 convolutional layers and 2 fully connected layers\n",
    "class CNN(nn.Module):\n",
    "    def __init__(self):\n",
    "        super(CNN, self).__init__()\n",
    "        self.conv1 = nn.Conv2d(in_channels=1, out_channels=16, kernel_size=5, stride=1, padding=2)\n",
    "        self.conv2 = nn.Conv2d(in_channels=16, out_channels=32, kernel_size=5, stride=1, padding=2)\n",
    "        self.fc1 = nn.Linear(32 * 7 * 7, 100)\n",
    "        self.fc2 = nn.Linear(100, 10)\n",
    "        self.pool = nn.MaxPool2d(kernel_size=2, stride=2, padding=0)\n",
    "        self.relu = nn.ReLU()\n",
    "\n",
    "    def forward(self, x):\n",
    "        x = self.relu(self.pool(self.conv1(x)))\n",
    "        x = self.relu(self.pool(self.conv2(x)))\n",
    "        x = x.view(-1, 32 * 7 * 7)\n",
    "        x = self.relu(self.fc1(x))\n",
    "        x = self.fc2(x)\n",
    "        return x\n",
    "\n",
    "model = CNN().to(device)"
   ]
  },
  {
   "cell_type": "markdown",
   "metadata": {},
   "source": [
    "Here I chose Cross Entropy Loss as the loss function because it is well-suited for multi-class classification problems (like MNIST), It combines both softmax and the negative log likelihood to provide a stable loss calculation that encourages the network to output high probabilities for the right classes.\n",
    "\n",
    "I chose RAdam with decoupled weight decay here because of this paper https://arxiv.org/abs/1908.03265\n",
    "\n",
    "In summary, \n",
    "\n",
    "- regular Adam with decoupled weight decay is an improved version of Adam modifies where the weight decay is performed only after controlling the parameter-wise step size, providing better regularization. This helps prevent overfitting and improves generalization.\n",
    "\n",
    "- Taking this a step further, we can use RAdam that is different by adapting its learning rate warmup mechanism. This leads to better convergence, especially in the early stages of training.\n",
    "\n",
    "Then, I chose to exponentially decay the Learning rate so that once the model finishes an epoch, the learning rate isn't as high as the model is already mostly trained. "
   ]
  },
  {
   "cell_type": "code",
   "execution_count": 22,
   "metadata": {},
   "outputs": [
    {
     "name": "stdout",
     "output_type": "stream",
     "text": [
      "Epoch [1/20], Step [25/100], Loss: 0.628701\n",
      "Epoch [1/20], Step [50/100], Loss: 0.283617\n",
      "Epoch [1/20], Step [75/100], Loss: 0.099109\n",
      "Epoch [1/20], Step [100/100], Loss: 0.098681\n",
      "Epoch [2/20], Step [25/100], Loss: 0.066770\n",
      "Epoch [2/20], Step [50/100], Loss: 0.091742\n",
      "Epoch [2/20], Step [75/100], Loss: 0.040568\n",
      "Epoch [2/20], Step [100/100], Loss: 0.070856\n",
      "Epoch [3/20], Step [25/100], Loss: 0.036843\n",
      "Epoch [3/20], Step [50/100], Loss: 0.033376\n",
      "Epoch [3/20], Step [75/100], Loss: 0.082456\n",
      "Epoch [3/20], Step [100/100], Loss: 0.033858\n",
      "Epoch [4/20], Step [25/100], Loss: 0.020088\n",
      "Epoch [4/20], Step [50/100], Loss: 0.038127\n",
      "Epoch [4/20], Step [75/100], Loss: 0.045603\n",
      "Epoch [4/20], Step [100/100], Loss: 0.034395\n",
      "Epoch [5/20], Step [25/100], Loss: 0.020857\n",
      "Epoch [5/20], Step [50/100], Loss: 0.021886\n",
      "Epoch [5/20], Step [75/100], Loss: 0.027658\n",
      "Epoch [5/20], Step [100/100], Loss: 0.013495\n",
      "Epoch [6/20], Step [25/100], Loss: 0.010726\n",
      "Epoch [6/20], Step [50/100], Loss: 0.019565\n",
      "Epoch [6/20], Step [75/100], Loss: 0.021174\n",
      "Epoch [6/20], Step [100/100], Loss: 0.013818\n",
      "Epoch [7/20], Step [25/100], Loss: 0.006979\n",
      "Epoch [7/20], Step [50/100], Loss: 0.011084\n",
      "Epoch [7/20], Step [75/100], Loss: 0.020500\n",
      "Epoch [7/20], Step [100/100], Loss: 0.025907\n",
      "Epoch [8/20], Step [25/100], Loss: 0.011355\n",
      "Epoch [8/20], Step [50/100], Loss: 0.028515\n",
      "Epoch [8/20], Step [75/100], Loss: 0.013996\n",
      "Epoch [8/20], Step [100/100], Loss: 0.025609\n",
      "Epoch [9/20], Step [25/100], Loss: 0.028018\n",
      "Epoch [9/20], Step [50/100], Loss: 0.007995\n",
      "Epoch [9/20], Step [75/100], Loss: 0.007218\n",
      "Epoch [9/20], Step [100/100], Loss: 0.005770\n",
      "Epoch [10/20], Step [25/100], Loss: 0.009179\n",
      "Epoch [10/20], Step [50/100], Loss: 0.014278\n",
      "Epoch [10/20], Step [75/100], Loss: 0.002908\n",
      "Epoch [10/20], Step [100/100], Loss: 0.006638\n",
      "Epoch [11/20], Step [25/100], Loss: 0.004377\n",
      "Epoch [11/20], Step [50/100], Loss: 0.005324\n",
      "Epoch [11/20], Step [75/100], Loss: 0.004377\n",
      "Epoch [11/20], Step [100/100], Loss: 0.001947\n",
      "Epoch [12/20], Step [25/100], Loss: 0.007167\n",
      "Epoch [12/20], Step [50/100], Loss: 0.005572\n",
      "Epoch [12/20], Step [75/100], Loss: 0.003586\n",
      "Epoch [12/20], Step [100/100], Loss: 0.010070\n",
      "Epoch [13/20], Step [25/100], Loss: 0.000859\n",
      "Epoch [13/20], Step [50/100], Loss: 0.000872\n",
      "Epoch [13/20], Step [75/100], Loss: 0.004689\n",
      "Epoch [13/20], Step [100/100], Loss: 0.001603\n",
      "Epoch [14/20], Step [25/100], Loss: 0.002703\n",
      "Epoch [14/20], Step [50/100], Loss: 0.001242\n",
      "Epoch [14/20], Step [75/100], Loss: 0.000524\n",
      "Epoch [14/20], Step [100/100], Loss: 0.004088\n",
      "Epoch [15/20], Step [25/100], Loss: 0.008480\n",
      "Epoch [15/20], Step [50/100], Loss: 0.000682\n",
      "Epoch [15/20], Step [75/100], Loss: 0.004414\n",
      "Epoch [15/20], Step [100/100], Loss: 0.000680\n",
      "Epoch [16/20], Step [25/100], Loss: 0.000507\n",
      "Epoch [16/20], Step [50/100], Loss: 0.000189\n",
      "Epoch [16/20], Step [75/100], Loss: 0.001180\n",
      "Epoch [16/20], Step [100/100], Loss: 0.000493\n",
      "Epoch [17/20], Step [25/100], Loss: 0.000244\n",
      "Epoch [17/20], Step [50/100], Loss: 0.000256\n",
      "Epoch [17/20], Step [75/100], Loss: 0.000086\n",
      "Epoch [17/20], Step [100/100], Loss: 0.000202\n",
      "Epoch [18/20], Step [25/100], Loss: 0.000095\n",
      "Epoch [18/20], Step [50/100], Loss: 0.000199\n",
      "Epoch [18/20], Step [75/100], Loss: 0.000052\n",
      "Epoch [18/20], Step [100/100], Loss: 0.000121\n",
      "Epoch [19/20], Step [25/100], Loss: 0.000042\n",
      "Epoch [19/20], Step [50/100], Loss: 0.000026\n",
      "Epoch [19/20], Step [75/100], Loss: 0.000051\n",
      "Epoch [19/20], Step [100/100], Loss: 0.000078\n",
      "Epoch [20/20], Step [25/100], Loss: 0.000022\n",
      "Epoch [20/20], Step [50/100], Loss: 0.000015\n",
      "Epoch [20/20], Step [75/100], Loss: 0.000037\n",
      "Epoch [20/20], Step [100/100], Loss: 0.000018\n"
     ]
    }
   ],
   "source": [
    "model = CNN().to(device)\n",
    "\n",
    "# Loss and optimizer\n",
    "criterion = nn.CrossEntropyLoss()\n",
    "optimizer = optim.RAdam(model.parameters(), lr=learning_rate, decoupled_weight_decay=True)\n",
    "scheduler = optim.lr_scheduler.ExponentialLR(optimizer, gamma=0.9)\n",
    "\n",
    "# Training loop\n",
    "for epoch in range(num_epochs):\n",
    "    model.train()\n",
    "    for i, (images, labels) in enumerate(train_loader):\n",
    "        images, labels = images.to(device), labels.to(device)\n",
    "\n",
    "        # Forward pass\n",
    "        outputs = model(images)\n",
    "        loss = criterion(outputs, labels)\n",
    "\n",
    "        # Backward pass and optimization\n",
    "        optimizer.zero_grad()\n",
    "        loss.backward()\n",
    "        optimizer.step()\n",
    "\n",
    "        if (i + 1) % (len(train_loader)//4) == 0:\n",
    "            print(f'Epoch [{epoch + 1}/{num_epochs}], Step [{i + 1}/{len(train_loader)}], Loss: {loss.item():.6f}')\n",
    "    scheduler.step()"
   ]
  },
  {
   "cell_type": "code",
   "execution_count": 23,
   "metadata": {},
   "outputs": [
    {
     "data": {
      "image/png": "[encoded data removed]",
      "text/plain": [
       "<Figure size 640x480 with 2 Axes>"
      ]
     },
     "metadata": {},
     "output_type": "display_data"
    },
    {
     "name": "stdout",
     "output_type": "stream",
     "text": [
      "Model Architecture:\n",
      "CNN(\n",
      "  (conv1): Conv2d(1, 16, kernel_size=(5, 5), stride=(1, 1), padding=(2, 2))\n",
      "  (conv2): Conv2d(16, 32, kernel_size=(5, 5), stride=(1, 1), padding=(2, 2))\n",
      "  (fc1): Linear(in_features=1568, out_features=100, bias=True)\n",
      "  (fc2): Linear(in_features=100, out_features=10, bias=True)\n",
      "  (pool): MaxPool2d(kernel_size=2, stride=2, padding=0, dilation=1, ceil_mode=False)\n",
      "  (relu): ReLU()\n",
      ")\n",
      "\n",
      "Model Evaluation:\n",
      "Accuracy: 0.9935\n",
      "\n",
      "Hyperparameters:\n",
      "Learning Rate: 0.02\n",
      "Batch Size: 600\n",
      "Number of Epochs: 20\n"
     ]
    }
   ],
   "source": [
    "# Evaluation and confusion matrix\n",
    "\n",
    "model.eval()\n",
    "y_pred = []\n",
    "y_true = []\n",
    "\n",
    "with torch.no_grad():\n",
    "    for images, labels in test_loader:\n",
    "        images = images.to(device)\n",
    "        labels = labels.to(device)\n",
    "        outputs = model(images)\n",
    "        _, predicted = torch.max(outputs.data, 1)\n",
    "        y_true.extend(labels.cpu().numpy())\n",
    "        y_pred.extend(predicted.cpu().numpy())\n",
    "\n",
    "# Confusion matrix\n",
    "cm = confusion_matrix(y_true, y_pred)\n",
    "cm_display = ConfusionMatrixDisplay(confusion_matrix=cm, display_labels=np.arange(10))\n",
    "cm_display.plot()\n",
    "plt.show()\n",
    "\n",
    "# Model summary of accuracy and hyperparameters\n",
    "print(\"Model Architecture:\")\n",
    "print(model)\n",
    "print(\"\\nModel Evaluation:\")\n",
    "print(f\"Accuracy: {np.mean(np.array(y_true) == np.array(y_pred))}\")\n",
    "print(\"\\nHyperparameters:\")\n",
    "print(f\"Learning Rate: {learning_rate}\")\n",
    "print(f\"Batch Size: {batch_size}\")\n",
    "print(f\"Number of Epochs: {num_epochs}\")\n",
    "\n"
   ]
  },
  {
   "cell_type": "markdown",
   "metadata": {},
   "source": [
    "Using the above parameters, I can get a pretty good score (roughly 99.3%) given the histogram of Kaggle scores. In this case, my model seems to be on the higher end of pure CNNs, even though my architecture is pretty simple. I believe that has to do with the optimizers and the learning rate decay, as that helped my model break throguh from 98%. \n",
    "\n",
    "Adding a data augmentation step would surely increase my accuracy, perhaps a dropout layer as well to improve regularization, and creating a more complex CNN could also be helpful. But based on the Kaggle score, I probably have reached an inherit limit of pure CNNs. \n",
    "\n",
    "According to the paper that currently holds the highest score, https://arxiv.org/pdf/2001.09136v6, using Homogeneous Vector Capsules (HVCs), their simple convolutional network achieves state-of-the-art MNIST classification with fewer parameters, fewer epochs, and without a routing mechanism. Unlike regular neurons, which output a scalar value, capsules output a vector, which contain more information about the properties of a detected entity (like, for example, their presence, orientation, maybe their scale)."
   ]
  }
 ],
 "metadata": {
  "kernelspec": {
   "display_name": "hw1-KtcfsTQj-py3.12",
   "language": "python",
   "name": "python3"
  },
  "language_info": {
   "codemirror_mode": {
    "name": "ipython",
    "version": 3
   },
   "file_extension": ".py",
   "mimetype": "text/x-python",
   "name": "python",
   "nbconvert_exporter": "python",
   "pygments_lexer": "ipython3",
   "version": "3.12.7"
  }
 },
 "nbformat": 4,
 "nbformat_minor": 2
}
